{
 "cells": [
  {
   "cell_type": "markdown",
   "metadata": {},
   "source": [
    "# Analysis and Prediction of Crimes in Chicago city"
   ]
  },
  {
   "cell_type": "markdown",
   "metadata": {},
   "source": [
    "### Introduction\n",
    "\n",
    "- The data we are analysing is from the Chicago Data Portal (https://data.cityofchicago.org/Public-Safety/Crimes-2001-to-Present/ijzp-q8t2/data) which provides us information about all the crimes that took place in the city of Chicago from 2001 to Present\n",
    "\n",
    "- The questions we would be investigating and predicting are:\n",
    "    1. The type of crime that can happen\n",
    "    2. The place where a crime is likely to happen\n",
    "    3. If the crime ends up in an arrest or not\n"
   ]
  },
  {
   "cell_type": "markdown",
   "metadata": {},
   "source": [
    "### Any changes?\n",
    "\n",
    "We initially planned to work with the entire dataset which has data from 2001 - Present. That is 7662271 rows (as of Nov 2 2022)\n",
    "Currently, we would be working on a subset of the dataset i.e., from 2019 - 2021 which has 680425 rows (as of Nov 2 2022)\n",
    "\n",
    "This is being done to fit the time frame of our project. In the subsequent days, we would incorporate the entire dataset to finetune our model better"
   ]
  },
  {
   "cell_type": "markdown",
   "metadata": {},
   "source": [
    "### Data initialisation"
   ]
  },
  {
   "cell_type": "code",
   "execution_count": 24,
   "metadata": {},
   "outputs": [],
   "source": [
    "import numpy as np\n",
    "import pandas as pd\n",
    "import matplotlib.pyplot as plt"
   ]
  },
  {
   "cell_type": "code",
   "execution_count": 25,
   "metadata": {},
   "outputs": [
    {
     "data": {
      "text/html": [
       "<div>\n",
       "<style scoped>\n",
       "    .dataframe tbody tr th:only-of-type {\n",
       "        vertical-align: middle;\n",
       "    }\n",
       "\n",
       "    .dataframe tbody tr th {\n",
       "        vertical-align: top;\n",
       "    }\n",
       "\n",
       "    .dataframe thead th {\n",
       "        text-align: right;\n",
       "    }\n",
       "</style>\n",
       "<table border=\"1\" class=\"dataframe\">\n",
       "  <thead>\n",
       "    <tr style=\"text-align: right;\">\n",
       "      <th></th>\n",
       "      <th>ID</th>\n",
       "      <th>Case Number</th>\n",
       "      <th>Date</th>\n",
       "      <th>Block</th>\n",
       "      <th>IUCR</th>\n",
       "      <th>Primary Type</th>\n",
       "      <th>Description</th>\n",
       "      <th>Location Description</th>\n",
       "      <th>Arrest</th>\n",
       "      <th>Domestic</th>\n",
       "      <th>...</th>\n",
       "      <th>Ward</th>\n",
       "      <th>Community Area</th>\n",
       "      <th>FBI Code</th>\n",
       "      <th>X Coordinate</th>\n",
       "      <th>Y Coordinate</th>\n",
       "      <th>Year</th>\n",
       "      <th>Updated On</th>\n",
       "      <th>Latitude</th>\n",
       "      <th>Longitude</th>\n",
       "      <th>Location</th>\n",
       "    </tr>\n",
       "  </thead>\n",
       "  <tbody>\n",
       "    <tr>\n",
       "      <th>0</th>\n",
       "      <td>12345411</td>\n",
       "      <td>JE205618</td>\n",
       "      <td>1/1/21 0:00</td>\n",
       "      <td>036XX S ASHLAND AVE</td>\n",
       "      <td>1320</td>\n",
       "      <td>CRIMINAL DAMAGE</td>\n",
       "      <td>TO VEHICLE</td>\n",
       "      <td>PARKING LOT / GARAGE (NON RESIDENTIAL)</td>\n",
       "      <td>False</td>\n",
       "      <td>False</td>\n",
       "      <td>...</td>\n",
       "      <td>11.0</td>\n",
       "      <td>59</td>\n",
       "      <td>14</td>\n",
       "      <td>1166266.0</td>\n",
       "      <td>1880505.0</td>\n",
       "      <td>2021</td>\n",
       "      <td>4/23/21 16:49</td>\n",
       "      <td>41.827682</td>\n",
       "      <td>-87.665496</td>\n",
       "      <td>(41.827681913, -87.665496311)</td>\n",
       "    </tr>\n",
       "    <tr>\n",
       "      <th>1</th>\n",
       "      <td>12449065</td>\n",
       "      <td>JE319016</td>\n",
       "      <td>1/1/21 0:00</td>\n",
       "      <td>100XX S AVENUE L</td>\n",
       "      <td>1750</td>\n",
       "      <td>OFFENSE INVOLVING CHILDREN</td>\n",
       "      <td>CHILD ABUSE</td>\n",
       "      <td>RESIDENCE</td>\n",
       "      <td>False</td>\n",
       "      <td>True</td>\n",
       "      <td>...</td>\n",
       "      <td>10.0</td>\n",
       "      <td>52</td>\n",
       "      <td>08B</td>\n",
       "      <td>1201814.0</td>\n",
       "      <td>1838991.0</td>\n",
       "      <td>2021</td>\n",
       "      <td>8/12/21 16:59</td>\n",
       "      <td>41.712933</td>\n",
       "      <td>-87.536489</td>\n",
       "      <td>(41.712932999, -87.53648903)</td>\n",
       "    </tr>\n",
       "    <tr>\n",
       "      <th>2</th>\n",
       "      <td>12349639</td>\n",
       "      <td>JE210703</td>\n",
       "      <td>1/1/21 0:00</td>\n",
       "      <td>037XX N PITTSBURGH AVE</td>\n",
       "      <td>1150</td>\n",
       "      <td>DECEPTIVE PRACTICE</td>\n",
       "      <td>CREDIT CARD FRAUD</td>\n",
       "      <td>APARTMENT</td>\n",
       "      <td>False</td>\n",
       "      <td>False</td>\n",
       "      <td>...</td>\n",
       "      <td>38.0</td>\n",
       "      <td>17</td>\n",
       "      <td>11</td>\n",
       "      <td>1120403.0</td>\n",
       "      <td>1923742.0</td>\n",
       "      <td>2021</td>\n",
       "      <td>4/28/21 16:51</td>\n",
       "      <td>41.947186</td>\n",
       "      <td>-87.832840</td>\n",
       "      <td>(41.94718614, -87.832840321)</td>\n",
       "    </tr>\n",
       "    <tr>\n",
       "      <th>3</th>\n",
       "      <td>12354069</td>\n",
       "      <td>JE216275</td>\n",
       "      <td>1/1/21 0:00</td>\n",
       "      <td>016XX W HOWARD ST</td>\n",
       "      <td>1154</td>\n",
       "      <td>DECEPTIVE PRACTICE</td>\n",
       "      <td>FINANCIAL IDENTITY THEFT $300 AND UNDER</td>\n",
       "      <td>APARTMENT</td>\n",
       "      <td>False</td>\n",
       "      <td>True</td>\n",
       "      <td>...</td>\n",
       "      <td>49.0</td>\n",
       "      <td>1</td>\n",
       "      <td>11</td>\n",
       "      <td>1163887.0</td>\n",
       "      <td>1950346.0</td>\n",
       "      <td>2021</td>\n",
       "      <td>5/4/21 16:47</td>\n",
       "      <td>42.019380</td>\n",
       "      <td>-87.672249</td>\n",
       "      <td>(42.019380398, -87.672249127)</td>\n",
       "    </tr>\n",
       "    <tr>\n",
       "      <th>4</th>\n",
       "      <td>12355943</td>\n",
       "      <td>JE218564</td>\n",
       "      <td>1/1/21 0:00</td>\n",
       "      <td>051XX N SHERIDAN RD</td>\n",
       "      <td>2826</td>\n",
       "      <td>OTHER OFFENSE</td>\n",
       "      <td>HARASSMENT BY ELECTRONIC MEANS</td>\n",
       "      <td>APARTMENT</td>\n",
       "      <td>False</td>\n",
       "      <td>False</td>\n",
       "      <td>...</td>\n",
       "      <td>48.0</td>\n",
       "      <td>3</td>\n",
       "      <td>26</td>\n",
       "      <td>1168704.0</td>\n",
       "      <td>1934414.0</td>\n",
       "      <td>2021</td>\n",
       "      <td>5/5/21 16:49</td>\n",
       "      <td>41.975559</td>\n",
       "      <td>-87.654988</td>\n",
       "      <td>(41.975559264, -87.654987667)</td>\n",
       "    </tr>\n",
       "  </tbody>\n",
       "</table>\n",
       "<p>5 rows × 22 columns</p>\n",
       "</div>"
      ],
      "text/plain": [
       "         ID Case Number         Date                   Block  IUCR  \\\n",
       "0  12345411    JE205618  1/1/21 0:00     036XX S ASHLAND AVE  1320   \n",
       "1  12449065    JE319016  1/1/21 0:00        100XX S AVENUE L  1750   \n",
       "2  12349639    JE210703  1/1/21 0:00  037XX N PITTSBURGH AVE  1150   \n",
       "3  12354069    JE216275  1/1/21 0:00       016XX W HOWARD ST  1154   \n",
       "4  12355943    JE218564  1/1/21 0:00     051XX N SHERIDAN RD  2826   \n",
       "\n",
       "                 Primary Type                              Description  \\\n",
       "0             CRIMINAL DAMAGE                               TO VEHICLE   \n",
       "1  OFFENSE INVOLVING CHILDREN                              CHILD ABUSE   \n",
       "2          DECEPTIVE PRACTICE                        CREDIT CARD FRAUD   \n",
       "3          DECEPTIVE PRACTICE  FINANCIAL IDENTITY THEFT $300 AND UNDER   \n",
       "4               OTHER OFFENSE           HARASSMENT BY ELECTRONIC MEANS   \n",
       "\n",
       "                     Location Description  Arrest  Domestic  ...  Ward  \\\n",
       "0  PARKING LOT / GARAGE (NON RESIDENTIAL)   False     False  ...  11.0   \n",
       "1                               RESIDENCE   False      True  ...  10.0   \n",
       "2                               APARTMENT   False     False  ...  38.0   \n",
       "3                               APARTMENT   False      True  ...  49.0   \n",
       "4                               APARTMENT   False     False  ...  48.0   \n",
       "\n",
       "   Community Area  FBI Code  X Coordinate Y Coordinate  Year     Updated On  \\\n",
       "0              59        14     1166266.0    1880505.0  2021  4/23/21 16:49   \n",
       "1              52       08B     1201814.0    1838991.0  2021  8/12/21 16:59   \n",
       "2              17        11     1120403.0    1923742.0  2021  4/28/21 16:51   \n",
       "3               1        11     1163887.0    1950346.0  2021   5/4/21 16:47   \n",
       "4               3        26     1168704.0    1934414.0  2021   5/5/21 16:49   \n",
       "\n",
       "    Latitude  Longitude                       Location  \n",
       "0  41.827682 -87.665496  (41.827681913, -87.665496311)  \n",
       "1  41.712933 -87.536489   (41.712932999, -87.53648903)  \n",
       "2  41.947186 -87.832840   (41.94718614, -87.832840321)  \n",
       "3  42.019380 -87.672249  (42.019380398, -87.672249127)  \n",
       "4  41.975559 -87.654988  (41.975559264, -87.654987667)  \n",
       "\n",
       "[5 rows x 22 columns]"
      ]
     },
     "execution_count": 25,
     "metadata": {},
     "output_type": "execute_result"
    }
   ],
   "source": [
    "crimes_df = pd.read_csv('Crimes-2021_to_2022.csv')\n",
    "crimes_df.head(5)"
   ]
  },
  {
   "cell_type": "code",
   "execution_count": 26,
   "metadata": {},
   "outputs": [
    {
     "data": {
      "text/plain": [
       "(207351, 22)"
      ]
     },
     "execution_count": 26,
     "metadata": {},
     "output_type": "execute_result"
    }
   ],
   "source": [
    "crimes_df.shape"
   ]
  },
  {
   "cell_type": "code",
   "execution_count": 27,
   "metadata": {},
   "outputs": [
    {
     "data": {
      "text/plain": [
       "ID                        int64\n",
       "Case Number              object\n",
       "Date                     object\n",
       "Block                    object\n",
       "IUCR                     object\n",
       "Primary Type             object\n",
       "Description              object\n",
       "Location Description     object\n",
       "Arrest                     bool\n",
       "Domestic                   bool\n",
       "Beat                      int64\n",
       "District                  int64\n",
       "Ward                    float64\n",
       "Community Area            int64\n",
       "FBI Code                 object\n",
       "X Coordinate            float64\n",
       "Y Coordinate            float64\n",
       "Year                      int64\n",
       "Updated On               object\n",
       "Latitude                float64\n",
       "Longitude               float64\n",
       "Location                 object\n",
       "dtype: object"
      ]
     },
     "execution_count": 27,
     "metadata": {},
     "output_type": "execute_result"
    }
   ],
   "source": [
    "crimes_df.dtypes"
   ]
  },
  {
   "cell_type": "markdown",
   "metadata": {},
   "source": [
    "##### Meanings of columns\n",
    "\n",
    "1. ID\n",
    "2. Case Number: unique crime ID\n",
    "3. Date: listed date of crime\n",
    "4. Block: block where crime occured\n",
    "5. IUCR: four digit Illinois Uniform Crime Reporting (IUCR) codes\n",
    "6. Description: Short description of the type of crime\n",
    "7. Location description: Description of where crime occured\n",
    "8. Arrest: boolean value (T/F) of whether or not an arrest was made\n",
    "9. Domestic: boolean value (T/V) of whether or not crime was domestic\n",
    "10. Community Area: numeric value indicating area in community where crime occured\n",
    "11. FBI Code: numeric code indicating FBI crime categorization\n",
    "12. X & Y Coordinate: exact location where crime occured\n",
    "13. Year: Year crime occured\n",
    "14. Updated On: Date and time the crime was added\n",
    "15. Latitude & Longitude: latitude and longitude information of crime"
   ]
  },
  {
   "cell_type": "code",
   "execution_count": 28,
   "metadata": {},
   "outputs": [
    {
     "data": {
      "text/html": [
       "<div>\n",
       "<style scoped>\n",
       "    .dataframe tbody tr th:only-of-type {\n",
       "        vertical-align: middle;\n",
       "    }\n",
       "\n",
       "    .dataframe tbody tr th {\n",
       "        vertical-align: top;\n",
       "    }\n",
       "\n",
       "    .dataframe thead th {\n",
       "        text-align: right;\n",
       "    }\n",
       "</style>\n",
       "<table border=\"1\" class=\"dataframe\">\n",
       "  <thead>\n",
       "    <tr style=\"text-align: right;\">\n",
       "      <th></th>\n",
       "      <th>ID</th>\n",
       "      <th>Beat</th>\n",
       "      <th>District</th>\n",
       "      <th>Ward</th>\n",
       "      <th>Community Area</th>\n",
       "      <th>X Coordinate</th>\n",
       "      <th>Y Coordinate</th>\n",
       "      <th>Year</th>\n",
       "      <th>Latitude</th>\n",
       "      <th>Longitude</th>\n",
       "    </tr>\n",
       "  </thead>\n",
       "  <tbody>\n",
       "    <tr>\n",
       "      <th>count</th>\n",
       "      <td>2.073510e+05</td>\n",
       "      <td>207351.000000</td>\n",
       "      <td>207351.000000</td>\n",
       "      <td>207340.000000</td>\n",
       "      <td>207351.000000</td>\n",
       "      <td>2.023860e+05</td>\n",
       "      <td>2.023860e+05</td>\n",
       "      <td>207351.0</td>\n",
       "      <td>202386.000000</td>\n",
       "      <td>202386.000000</td>\n",
       "    </tr>\n",
       "    <tr>\n",
       "      <th>mean</th>\n",
       "      <td>1.237757e+07</td>\n",
       "      <td>1151.009973</td>\n",
       "      <td>11.281084</td>\n",
       "      <td>23.142770</td>\n",
       "      <td>37.098442</td>\n",
       "      <td>1.165116e+06</td>\n",
       "      <td>1.885762e+06</td>\n",
       "      <td>2021.0</td>\n",
       "      <td>41.842116</td>\n",
       "      <td>-87.669610</td>\n",
       "    </tr>\n",
       "    <tr>\n",
       "      <th>std</th>\n",
       "      <td>7.756153e+05</td>\n",
       "      <td>699.192416</td>\n",
       "      <td>6.988373</td>\n",
       "      <td>13.920121</td>\n",
       "      <td>21.646216</td>\n",
       "      <td>1.655449e+04</td>\n",
       "      <td>3.201193e+04</td>\n",
       "      <td>0.0</td>\n",
       "      <td>0.088039</td>\n",
       "      <td>0.060254</td>\n",
       "    </tr>\n",
       "    <tr>\n",
       "      <th>min</th>\n",
       "      <td>2.569900e+04</td>\n",
       "      <td>111.000000</td>\n",
       "      <td>1.000000</td>\n",
       "      <td>1.000000</td>\n",
       "      <td>1.000000</td>\n",
       "      <td>1.091242e+06</td>\n",
       "      <td>1.813909e+06</td>\n",
       "      <td>2021.0</td>\n",
       "      <td>41.644608</td>\n",
       "      <td>-87.939733</td>\n",
       "    </tr>\n",
       "    <tr>\n",
       "      <th>25%</th>\n",
       "      <td>1.234273e+07</td>\n",
       "      <td>611.000000</td>\n",
       "      <td>6.000000</td>\n",
       "      <td>10.000000</td>\n",
       "      <td>23.000000</td>\n",
       "      <td>1.153359e+06</td>\n",
       "      <td>1.858110e+06</td>\n",
       "      <td>2021.0</td>\n",
       "      <td>41.765975</td>\n",
       "      <td>-87.712323</td>\n",
       "    </tr>\n",
       "    <tr>\n",
       "      <th>50%</th>\n",
       "      <td>1.242498e+07</td>\n",
       "      <td>1031.000000</td>\n",
       "      <td>10.000000</td>\n",
       "      <td>24.000000</td>\n",
       "      <td>32.000000</td>\n",
       "      <td>1.166968e+06</td>\n",
       "      <td>1.891278e+06</td>\n",
       "      <td>2021.0</td>\n",
       "      <td>41.857211</td>\n",
       "      <td>-87.662955</td>\n",
       "    </tr>\n",
       "    <tr>\n",
       "      <th>75%</th>\n",
       "      <td>1.250590e+07</td>\n",
       "      <td>1722.000000</td>\n",
       "      <td>17.000000</td>\n",
       "      <td>34.000000</td>\n",
       "      <td>55.000000</td>\n",
       "      <td>1.176822e+06</td>\n",
       "      <td>1.909231e+06</td>\n",
       "      <td>2021.0</td>\n",
       "      <td>41.906736</td>\n",
       "      <td>-87.626743</td>\n",
       "    </tr>\n",
       "    <tr>\n",
       "      <th>max</th>\n",
       "      <td>1.287802e+07</td>\n",
       "      <td>2535.000000</td>\n",
       "      <td>31.000000</td>\n",
       "      <td>50.000000</td>\n",
       "      <td>77.000000</td>\n",
       "      <td>1.205119e+06</td>\n",
       "      <td>1.951499e+06</td>\n",
       "      <td>2021.0</td>\n",
       "      <td>42.022548</td>\n",
       "      <td>-87.524529</td>\n",
       "    </tr>\n",
       "  </tbody>\n",
       "</table>\n",
       "</div>"
      ],
      "text/plain": [
       "                 ID           Beat       District           Ward  \\\n",
       "count  2.073510e+05  207351.000000  207351.000000  207340.000000   \n",
       "mean   1.237757e+07    1151.009973      11.281084      23.142770   \n",
       "std    7.756153e+05     699.192416       6.988373      13.920121   \n",
       "min    2.569900e+04     111.000000       1.000000       1.000000   \n",
       "25%    1.234273e+07     611.000000       6.000000      10.000000   \n",
       "50%    1.242498e+07    1031.000000      10.000000      24.000000   \n",
       "75%    1.250590e+07    1722.000000      17.000000      34.000000   \n",
       "max    1.287802e+07    2535.000000      31.000000      50.000000   \n",
       "\n",
       "       Community Area  X Coordinate  Y Coordinate      Year       Latitude  \\\n",
       "count   207351.000000  2.023860e+05  2.023860e+05  207351.0  202386.000000   \n",
       "mean        37.098442  1.165116e+06  1.885762e+06    2021.0      41.842116   \n",
       "std         21.646216  1.655449e+04  3.201193e+04       0.0       0.088039   \n",
       "min          1.000000  1.091242e+06  1.813909e+06    2021.0      41.644608   \n",
       "25%         23.000000  1.153359e+06  1.858110e+06    2021.0      41.765975   \n",
       "50%         32.000000  1.166968e+06  1.891278e+06    2021.0      41.857211   \n",
       "75%         55.000000  1.176822e+06  1.909231e+06    2021.0      41.906736   \n",
       "max         77.000000  1.205119e+06  1.951499e+06    2021.0      42.022548   \n",
       "\n",
       "           Longitude  \n",
       "count  202386.000000  \n",
       "mean      -87.669610  \n",
       "std         0.060254  \n",
       "min       -87.939733  \n",
       "25%       -87.712323  \n",
       "50%       -87.662955  \n",
       "75%       -87.626743  \n",
       "max       -87.524529  "
      ]
     },
     "execution_count": 28,
     "metadata": {},
     "output_type": "execute_result"
    }
   ],
   "source": [
    "crimes_df.describe()"
   ]
  },
  {
   "cell_type": "markdown",
   "metadata": {},
   "source": [
    "### Data cleaning"
   ]
  },
  {
   "cell_type": "markdown",
   "metadata": {},
   "source": [
    "Converting the column names to a standard form and handling inconsistencies"
   ]
  },
  {
   "cell_type": "code",
   "execution_count": 29,
   "metadata": {},
   "outputs": [],
   "source": [
    "crimes_df.columns = crimes_df.columns.str.strip()\n",
    "crimes_df.columns = crimes_df.columns.str.replace(' ', '_')\n",
    "crimes_df.columns = crimes_df.columns.str.lower()"
   ]
  },
  {
   "cell_type": "markdown",
   "metadata": {},
   "source": [
    "- ID, Case Number are primary key attributes and do not add value. These columns can be dropped\n",
    "- We have attributes: Latitude, Longitude and Location where Location is the combination of Latitude & Longitude data (Latitude,Longitude). So Location column is redundant and can be dropped"
   ]
  },
  {
   "cell_type": "code",
   "execution_count": 30,
   "metadata": {},
   "outputs": [],
   "source": [
    "crimes_df.drop(['id','case_number','location'], axis = 1, inplace = True)"
   ]
  },
  {
   "cell_type": "markdown",
   "metadata": {},
   "source": [
    "Checking if there are any null values"
   ]
  },
  {
   "cell_type": "code",
   "execution_count": 31,
   "metadata": {},
   "outputs": [
    {
     "data": {
      "text/plain": [
       "date                       0\n",
       "block                      0\n",
       "iucr                       0\n",
       "primary_type               0\n",
       "description                0\n",
       "location_description     843\n",
       "arrest                     0\n",
       "domestic                   0\n",
       "beat                       0\n",
       "district                   0\n",
       "ward                      11\n",
       "community_area             0\n",
       "fbi_code                   0\n",
       "x_coordinate            4965\n",
       "y_coordinate            4965\n",
       "year                       0\n",
       "updated_on                 0\n",
       "latitude                4965\n",
       "longitude               4965\n",
       "dtype: int64"
      ]
     },
     "execution_count": 31,
     "metadata": {},
     "output_type": "execute_result"
    }
   ],
   "source": [
    "crimes_df.isna().sum()"
   ]
  },
  {
   "cell_type": "markdown",
   "metadata": {},
   "source": [
    "- Since latitude, longitude, ward are crucial information to detect the location of crime, missing information for these do not contribute much to the dataset. So, we can drop these columns\n",
    "- Location description is not a mandatory column and would not affect our model. So, we don't have to delete it. We can replace missing values with 'Unavailable'"
   ]
  },
  {
   "cell_type": "code",
   "execution_count": 32,
   "metadata": {},
   "outputs": [],
   "source": [
    "crimes_df.dropna(subset = ['latitude','longitude','ward'], inplace = True)\n",
    "crimes_df.reset_index(drop = True, inplace = True)\n",
    "crimes_df['location_description'] = crimes_df['location_description'].fillna('Unavailable')"
   ]
  },
  {
   "cell_type": "code",
   "execution_count": 33,
   "metadata": {},
   "outputs": [
    {
     "data": {
      "text/plain": [
       "date                    0\n",
       "block                   0\n",
       "iucr                    0\n",
       "primary_type            0\n",
       "description             0\n",
       "location_description    0\n",
       "arrest                  0\n",
       "domestic                0\n",
       "beat                    0\n",
       "district                0\n",
       "ward                    0\n",
       "community_area          0\n",
       "fbi_code                0\n",
       "x_coordinate            0\n",
       "y_coordinate            0\n",
       "year                    0\n",
       "updated_on              0\n",
       "latitude                0\n",
       "longitude               0\n",
       "dtype: int64"
      ]
     },
     "execution_count": 33,
     "metadata": {},
     "output_type": "execute_result"
    }
   ],
   "source": [
    "crimes_df.isna().sum()"
   ]
  },
  {
   "cell_type": "code",
   "execution_count": 34,
   "metadata": {},
   "outputs": [
    {
     "data": {
      "text/plain": [
       "(202375, 19)"
      ]
     },
     "execution_count": 34,
     "metadata": {},
     "output_type": "execute_result"
    }
   ],
   "source": [
    "crimes_df.shape"
   ]
  },
  {
   "cell_type": "markdown",
   "metadata": {},
   "source": [
    "We removed 3 columns and (207351 - 202375 = 4976) 4976 rows. This constitutes to 2.3% of the initial dataset. Since, the value is very low we wouldn't have missed out on important insights"
   ]
  },
  {
   "cell_type": "markdown",
   "metadata": {},
   "source": [
    "### Data enhancements"
   ]
  }
 ],
 "metadata": {
  "kernelspec": {
   "display_name": "Python 3.10.8 64-bit",
   "language": "python",
   "name": "python3"
  },
  "language_info": {
   "codemirror_mode": {
    "name": "ipython",
    "version": 3
   },
   "file_extension": ".py",
   "mimetype": "text/x-python",
   "name": "python",
   "nbconvert_exporter": "python",
   "pygments_lexer": "ipython3",
   "version": "3.10.8"
  },
  "orig_nbformat": 4,
  "vscode": {
   "interpreter": {
    "hash": "aee8b7b246df8f9039afb4144a1f6fd8d2ca17a180786b69acc140d282b71a49"
   }
  }
 },
 "nbformat": 4,
 "nbformat_minor": 2
}
