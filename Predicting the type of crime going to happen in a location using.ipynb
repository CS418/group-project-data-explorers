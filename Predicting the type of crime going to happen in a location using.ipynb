{
 "cells": [
  {
   "cell_type": "markdown",
   "metadata": {},
   "source": [
    "### Predicting the type of crime going to happen in a location using"
   ]
  },
  {
   "cell_type": "markdown",
   "metadata": {},
   "source": [
    "##### Importing the necessary libraries"
   ]
  },
  {
   "cell_type": "code",
   "execution_count": 892,
   "metadata": {},
   "outputs": [],
   "source": [
    "import pandas as pd"
   ]
  },
  {
   "cell_type": "markdown",
   "metadata": {},
   "source": [
    "##### Importing the dataset"
   ]
  },
  {
   "cell_type": "code",
   "execution_count": 893,
   "metadata": {},
   "outputs": [
    {
     "data": {
      "text/html": [
       "<div>\n",
       "<style scoped>\n",
       "    .dataframe tbody tr th:only-of-type {\n",
       "        vertical-align: middle;\n",
       "    }\n",
       "\n",
       "    .dataframe tbody tr th {\n",
       "        vertical-align: top;\n",
       "    }\n",
       "\n",
       "    .dataframe thead th {\n",
       "        text-align: right;\n",
       "    }\n",
       "</style>\n",
       "<table border=\"1\" class=\"dataframe\">\n",
       "  <thead>\n",
       "    <tr style=\"text-align: right;\">\n",
       "      <th></th>\n",
       "      <th>ID</th>\n",
       "      <th>Case Number</th>\n",
       "      <th>Date</th>\n",
       "      <th>Block</th>\n",
       "      <th>IUCR</th>\n",
       "      <th>Primary Type</th>\n",
       "      <th>Description</th>\n",
       "      <th>Location Description</th>\n",
       "      <th>Arrest</th>\n",
       "      <th>Domestic</th>\n",
       "      <th>...</th>\n",
       "      <th>Ward</th>\n",
       "      <th>Community Area</th>\n",
       "      <th>FBI Code</th>\n",
       "      <th>X Coordinate</th>\n",
       "      <th>Y Coordinate</th>\n",
       "      <th>Year</th>\n",
       "      <th>Updated On</th>\n",
       "      <th>Latitude</th>\n",
       "      <th>Longitude</th>\n",
       "      <th>Location</th>\n",
       "    </tr>\n",
       "  </thead>\n",
       "  <tbody>\n",
       "    <tr>\n",
       "      <th>0</th>\n",
       "      <td>11552667</td>\n",
       "      <td>JC100123</td>\n",
       "      <td>1/1/19 0:00</td>\n",
       "      <td>004XX N STATE ST</td>\n",
       "      <td>890</td>\n",
       "      <td>THEFT</td>\n",
       "      <td>FROM BUILDING</td>\n",
       "      <td>RESTAURANT</td>\n",
       "      <td>False</td>\n",
       "      <td>False</td>\n",
       "      <td>...</td>\n",
       "      <td>42.0</td>\n",
       "      <td>8.0</td>\n",
       "      <td>6</td>\n",
       "      <td>1176302.0</td>\n",
       "      <td>1903096.0</td>\n",
       "      <td>2019</td>\n",
       "      <td>1/10/19 15:16</td>\n",
       "      <td>41.889453</td>\n",
       "      <td>-87.627995</td>\n",
       "      <td>(41.889453169, -87.627994833)</td>\n",
       "    </tr>\n",
       "    <tr>\n",
       "      <th>1</th>\n",
       "      <td>11552674</td>\n",
       "      <td>JC100085</td>\n",
       "      <td>1/1/19 0:00</td>\n",
       "      <td>092XX S NORMAL AVE</td>\n",
       "      <td>910</td>\n",
       "      <td>MOTOR VEHICLE THEFT</td>\n",
       "      <td>AUTOMOBILE</td>\n",
       "      <td>STREET</td>\n",
       "      <td>False</td>\n",
       "      <td>False</td>\n",
       "      <td>...</td>\n",
       "      <td>21.0</td>\n",
       "      <td>73.0</td>\n",
       "      <td>7</td>\n",
       "      <td>1174586.0</td>\n",
       "      <td>1843723.0</td>\n",
       "      <td>2019</td>\n",
       "      <td>1/10/19 15:16</td>\n",
       "      <td>41.726566</td>\n",
       "      <td>-87.636066</td>\n",
       "      <td>(41.726566477, -87.636065622)</td>\n",
       "    </tr>\n",
       "    <tr>\n",
       "      <th>2</th>\n",
       "      <td>11552709</td>\n",
       "      <td>JC100020</td>\n",
       "      <td>1/1/19 0:00</td>\n",
       "      <td>044XX S WASHTENAW AVE</td>\n",
       "      <td>486</td>\n",
       "      <td>BATTERY</td>\n",
       "      <td>DOMESTIC BATTERY SIMPLE</td>\n",
       "      <td>APARTMENT</td>\n",
       "      <td>False</td>\n",
       "      <td>True</td>\n",
       "      <td>...</td>\n",
       "      <td>15.0</td>\n",
       "      <td>58.0</td>\n",
       "      <td>08B</td>\n",
       "      <td>1159112.0</td>\n",
       "      <td>1875020.0</td>\n",
       "      <td>2019</td>\n",
       "      <td>1/10/19 15:16</td>\n",
       "      <td>41.812780</td>\n",
       "      <td>-87.691894</td>\n",
       "      <td>(41.812780011, -87.691893746)</td>\n",
       "    </tr>\n",
       "    <tr>\n",
       "      <th>3</th>\n",
       "      <td>11552758</td>\n",
       "      <td>JC100058</td>\n",
       "      <td>1/1/19 0:00</td>\n",
       "      <td>063XX S MARSHFIELD AVE</td>\n",
       "      <td>1310</td>\n",
       "      <td>CRIMINAL DAMAGE</td>\n",
       "      <td>TO PROPERTY</td>\n",
       "      <td>APARTMENT</td>\n",
       "      <td>False</td>\n",
       "      <td>False</td>\n",
       "      <td>...</td>\n",
       "      <td>16.0</td>\n",
       "      <td>67.0</td>\n",
       "      <td>14</td>\n",
       "      <td>1166414.0</td>\n",
       "      <td>1862607.0</td>\n",
       "      <td>2019</td>\n",
       "      <td>1/10/19 15:16</td>\n",
       "      <td>41.778565</td>\n",
       "      <td>-87.665464</td>\n",
       "      <td>(41.77856457, -87.665463557)</td>\n",
       "    </tr>\n",
       "    <tr>\n",
       "      <th>4</th>\n",
       "      <td>11553168</td>\n",
       "      <td>JC100745</td>\n",
       "      <td>1/1/19 0:00</td>\n",
       "      <td>008XX N MICHIGAN AVE</td>\n",
       "      <td>890</td>\n",
       "      <td>THEFT</td>\n",
       "      <td>FROM BUILDING</td>\n",
       "      <td>RESTAURANT</td>\n",
       "      <td>False</td>\n",
       "      <td>False</td>\n",
       "      <td>...</td>\n",
       "      <td>2.0</td>\n",
       "      <td>8.0</td>\n",
       "      <td>6</td>\n",
       "      <td>1177330.0</td>\n",
       "      <td>1906499.0</td>\n",
       "      <td>2019</td>\n",
       "      <td>1/10/19 15:16</td>\n",
       "      <td>41.898768</td>\n",
       "      <td>-87.624116</td>\n",
       "      <td>(41.898767916, -87.624116333)</td>\n",
       "    </tr>\n",
       "  </tbody>\n",
       "</table>\n",
       "<p>5 rows × 22 columns</p>\n",
       "</div>"
      ],
      "text/plain": [
       "         ID Case Number         Date                   Block  IUCR  \\\n",
       "0  11552667    JC100123  1/1/19 0:00        004XX N STATE ST   890   \n",
       "1  11552674    JC100085  1/1/19 0:00      092XX S NORMAL AVE   910   \n",
       "2  11552709    JC100020  1/1/19 0:00   044XX S WASHTENAW AVE   486   \n",
       "3  11552758    JC100058  1/1/19 0:00  063XX S MARSHFIELD AVE  1310   \n",
       "4  11553168    JC100745  1/1/19 0:00    008XX N MICHIGAN AVE   890   \n",
       "\n",
       "          Primary Type              Description Location Description  Arrest  \\\n",
       "0                THEFT            FROM BUILDING           RESTAURANT   False   \n",
       "1  MOTOR VEHICLE THEFT               AUTOMOBILE               STREET   False   \n",
       "2              BATTERY  DOMESTIC BATTERY SIMPLE            APARTMENT   False   \n",
       "3      CRIMINAL DAMAGE              TO PROPERTY            APARTMENT   False   \n",
       "4                THEFT            FROM BUILDING           RESTAURANT   False   \n",
       "\n",
       "   Domestic  ...  Ward  Community Area  FBI Code  X Coordinate Y Coordinate  \\\n",
       "0     False  ...  42.0             8.0         6     1176302.0    1903096.0   \n",
       "1     False  ...  21.0            73.0         7     1174586.0    1843723.0   \n",
       "2      True  ...  15.0            58.0       08B     1159112.0    1875020.0   \n",
       "3     False  ...  16.0            67.0        14     1166414.0    1862607.0   \n",
       "4     False  ...   2.0             8.0         6     1177330.0    1906499.0   \n",
       "\n",
       "   Year     Updated On   Latitude  Longitude                       Location  \n",
       "0  2019  1/10/19 15:16  41.889453 -87.627995  (41.889453169, -87.627994833)  \n",
       "1  2019  1/10/19 15:16  41.726566 -87.636066  (41.726566477, -87.636065622)  \n",
       "2  2019  1/10/19 15:16  41.812780 -87.691894  (41.812780011, -87.691893746)  \n",
       "3  2019  1/10/19 15:16  41.778565 -87.665464   (41.77856457, -87.665463557)  \n",
       "4  2019  1/10/19 15:16  41.898768 -87.624116  (41.898767916, -87.624116333)  \n",
       "\n",
       "[5 rows x 22 columns]"
      ]
     },
     "execution_count": 893,
     "metadata": {},
     "output_type": "execute_result"
    }
   ],
   "source": [
    "crimes_df = pd.read_csv('Crimes-2019_to_2021.csv')\n",
    "crimes_df.head(5)"
   ]
  },
  {
   "cell_type": "code",
   "execution_count": 894,
   "metadata": {},
   "outputs": [
    {
     "data": {
      "text/plain": [
       "ID                        int64\n",
       "Case Number              object\n",
       "Date                     object\n",
       "Block                    object\n",
       "IUCR                     object\n",
       "Primary Type             object\n",
       "Description              object\n",
       "Location Description     object\n",
       "Arrest                     bool\n",
       "Domestic                   bool\n",
       "Beat                      int64\n",
       "District                  int64\n",
       "Ward                    float64\n",
       "Community Area          float64\n",
       "FBI Code                 object\n",
       "X Coordinate            float64\n",
       "Y Coordinate            float64\n",
       "Year                      int64\n",
       "Updated On               object\n",
       "Latitude                float64\n",
       "Longitude               float64\n",
       "Location                 object\n",
       "dtype: object"
      ]
     },
     "execution_count": 894,
     "metadata": {},
     "output_type": "execute_result"
    }
   ],
   "source": [
    "# printing datatypes \n",
    "crimes_df.dtypes"
   ]
  },
  {
   "cell_type": "code",
   "execution_count": 895,
   "metadata": {},
   "outputs": [
    {
     "data": {
      "text/plain": [
       "(680425, 22)"
      ]
     },
     "execution_count": 895,
     "metadata": {},
     "output_type": "execute_result"
    }
   ],
   "source": [
    "# shape of dataset before cleaning\n",
    "crimes_df.shape"
   ]
  },
  {
   "cell_type": "markdown",
   "metadata": {},
   "source": [
    "##### Converting the column names to a standard form and handling inconsistencies"
   ]
  },
  {
   "cell_type": "code",
   "execution_count": 896,
   "metadata": {},
   "outputs": [],
   "source": [
    "crimes_df.columns =crimes_df.columns.str.strip()\n",
    "crimes_df.columns = crimes_df.columns.str.replace(' ', '_')\n",
    "crimes_df.columns = crimes_df.columns.str.lower()"
   ]
  },
  {
   "cell_type": "markdown",
   "metadata": {},
   "source": [
    "##### Checking for outliers "
   ]
  },
  {
   "cell_type": "code",
   "execution_count": 897,
   "metadata": {},
   "outputs": [
    {
     "data": {
      "text/plain": [
       "<AxesSubplot: >"
      ]
     },
     "execution_count": 897,
     "metadata": {},
     "output_type": "execute_result"
    },
    {
     "data": {
      "image/png": "[encoded data removed]",
      "text/plain": [
       "<Figure size 1000x700 with 1 Axes>"
      ]
     },
     "metadata": {},
     "output_type": "display_data"
    }
   ],
   "source": [
    "import matplotlib.pyplot as plt\n",
    "plt.figure(figsize = (10, 7))\n",
    "crimes_df.boxplot(['ward','community_area','beat'])"
   ]
  },
  {
   "cell_type": "markdown",
   "metadata": {},
   "source": [
    "##### Eliminating duplicate rows"
   ]
  },
  {
   "cell_type": "code",
   "execution_count": 898,
   "metadata": {},
   "outputs": [],
   "source": [
    "crimes_df=crimes_df.drop_duplicates()"
   ]
  },
  {
   "cell_type": "markdown",
   "metadata": {},
   "source": [
    "##### Handling missing values by dropping, replacing them "
   ]
  },
  {
   "cell_type": "code",
   "execution_count": null,
   "metadata": {},
   "outputs": [],
   "source": [
    "import missingno as msno \n",
    "msno.dendrogram(crimes_df)"
   ]
  },
  {
   "cell_type": "code",
   "execution_count": 899,
   "metadata": {},
   "outputs": [],
   "source": [
    "crimes_df.dropna(subset = ['latitude','longitude','ward'], inplace = True)\n",
    "crimes_df.reset_index(drop = True, inplace = True)\n",
    "crimes_df['location_description'] = crimes_df['location_description'].fillna('Unavailable')"
   ]
  },
  {
   "cell_type": "markdown",
   "metadata": {},
   "source": [
    "The x coordinate and y coordinate values are closely correlated with the null values of latitude and longitude, as can be seen from the dendogram above. If one of the values in this co-relation has a value of 1, it means that the other value likewise has a value of 1.\n",
    "\n",
    "Therefore, it is safe to discard observations in which one of the values is zero. This shouldn't have an impact on our data and should also prevent the loss of significant observations."
   ]
  },
  {
   "cell_type": "markdown",
   "metadata": {},
   "source": [
    "##### Checking if there are any null values"
   ]
  },
  {
   "cell_type": "code",
   "execution_count": 900,
   "metadata": {},
   "outputs": [
    {
     "data": {
      "text/plain": [
       "id                      0\n",
       "case_number             0\n",
       "date                    0\n",
       "block                   0\n",
       "iucr                    0\n",
       "primary_type            0\n",
       "description             0\n",
       "location_description    0\n",
       "arrest                  0\n",
       "domestic                0\n",
       "beat                    0\n",
       "district                0\n",
       "ward                    0\n",
       "community_area          0\n",
       "fbi_code                0\n",
       "x_coordinate            0\n",
       "y_coordinate            0\n",
       "year                    0\n",
       "updated_on              0\n",
       "latitude                0\n",
       "longitude               0\n",
       "location                0\n",
       "dtype: int64"
      ]
     },
     "execution_count": 900,
     "metadata": {},
     "output_type": "execute_result"
    }
   ],
   "source": [
    "crimes_df.isna().sum()"
   ]
  },
  {
   "cell_type": "code",
   "execution_count": 901,
   "metadata": {},
   "outputs": [
    {
     "data": {
      "text/plain": [
       "14739450"
      ]
     },
     "execution_count": 901,
     "metadata": {},
     "output_type": "execute_result"
    }
   ],
   "source": [
    "# size of data after cleaning\n",
    "crimes_df.size"
   ]
  },
  {
   "cell_type": "markdown",
   "metadata": {},
   "source": [
    "### Predicting the type of crime going to happen in a location"
   ]
  },
  {
   "cell_type": "markdown",
   "metadata": {},
   "source": [
    "## Decision tree Classifier"
   ]
  },
  {
   "cell_type": "code",
   "execution_count": 902,
   "metadata": {},
   "outputs": [],
   "source": [
    "import matplotlib.pyplot as plt\n",
    "import numpy as np\n",
    "#import warnings\n",
    "#warnings.simplefilter(action='ignore', category=FutureWarning)\n",
    "from sklearn import metrics\n",
    "from sklearn.metrics import classification_report\n",
    "from sklearn.model_selection import train_test_split\n",
    "from sklearn import tree"
   ]
  },
  {
   "cell_type": "markdown",
   "metadata": {},
   "source": [
    "# MAKE A REFERENCE ON HOW DID YOU MAKE THIS"
   ]
  },
  {
   "cell_type": "code",
   "execution_count": 903,
   "metadata": {},
   "outputs": [],
   "source": [
    "#Mapping similar crimes under one group.\n",
    "primary_type_map = {\n",
    "    ('BURGLARY','MOTOR VEHICLE THEFT','THEFT','ROBBERY') : 'THEFT',\n",
    "    ('BATTERY','ASSAULT','NON-CRIMINAL','NON-CRIMINAL (SUBJECT SPECIFIED)') : 'NON-CRIMINAL_ASSAULT',\n",
    "    ('CRIM SEXUAL ASSAULT','SEX OFFENSE','STALKING','PROSTITUTION') : 'SEXUAL_OFFENSE',\n",
    "    ('WEAPONS VIOLATION','CONCEALED CARRY LICENSE VIOLATION') :  'WEAPONS_OFFENSE',\n",
    "    ('HOMICIDE','CRIMINAL DAMAGE','DECEPTIVE PRACTICE','CRIMINAL TRESPASS') : 'CRIMINAL_OFFENSE',\n",
    "    ('KIDNAPPING','HUMAN TRAFFICKING','OFFENSE INVOLVING CHILDREN') : 'HUMAN_TRAFFICKING_OFFENSE',\n",
    "    ('NARCOTICS','OTHER NARCOTIC VIOLATION') : 'NARCOTIC_OFFENSE',\n",
    "    ('OTHER OFFENSE','ARSON','GAMBLING','PUBLIC PEACE VIOLATION','INTIMIDATION','INTERFERENCE WITH PUBLIC OFFICER','LIQUOR LAW VIOLATION','OBSCENITY','PUBLIC INDECENCY') : 'OTHER_OFFENSE'\n",
    "}\n",
    "primary_type_mapping = {}\n",
    "for keys, values in primary_type_map.items():\n",
    "    for key in keys:\n",
    "        primary_type_mapping[key] = values\n",
    "crimes_df['primary_type_grouped'] = crimes_df.primary_type.map(primary_type_mapping)"
   ]
  },
  {
   "cell_type": "code",
   "execution_count": 904,
   "metadata": {},
   "outputs": [],
   "source": [
    "#Converting the numercial attributes to categorical attributes\n",
    "crimes_df.year = pd.Categorical(crimes_df.year)\n",
    "crimes_df.domestic = pd.Categorical(crimes_df.domestic)\n",
    "crimes_df.arrest = pd.Categorical(crimes_df.arrest)\n",
    "crimes_df.beat = pd.Categorical(crimes_df.beat)\n",
    "crimes_df.district = pd.Categorical(crimes_df.district)\n",
    "crimes_df.community_area = pd.Categorical(crimes_df.community_area)"
   ]
  },
  {
   "cell_type": "code",
   "execution_count": 905,
   "metadata": {},
   "outputs": [
    {
     "data": {
      "text/html": [
       "<div>\n",
       "<style scoped>\n",
       "    .dataframe tbody tr th:only-of-type {\n",
       "        vertical-align: middle;\n",
       "    }\n",
       "\n",
       "    .dataframe tbody tr th {\n",
       "        vertical-align: top;\n",
       "    }\n",
       "\n",
       "    .dataframe thead th {\n",
       "        text-align: right;\n",
       "    }\n",
       "</style>\n",
       "<table border=\"1\" class=\"dataframe\">\n",
       "  <thead>\n",
       "    <tr style=\"text-align: right;\">\n",
       "      <th></th>\n",
       "      <th>id</th>\n",
       "      <th>case_number</th>\n",
       "      <th>date</th>\n",
       "      <th>block</th>\n",
       "      <th>iucr</th>\n",
       "      <th>primary_type</th>\n",
       "      <th>description</th>\n",
       "      <th>location_description</th>\n",
       "      <th>arrest</th>\n",
       "      <th>domestic</th>\n",
       "      <th>...</th>\n",
       "      <th>community_area</th>\n",
       "      <th>fbi_code</th>\n",
       "      <th>x_coordinate</th>\n",
       "      <th>y_coordinate</th>\n",
       "      <th>year</th>\n",
       "      <th>updated_on</th>\n",
       "      <th>latitude</th>\n",
       "      <th>longitude</th>\n",
       "      <th>location</th>\n",
       "      <th>primary_type_grouped</th>\n",
       "    </tr>\n",
       "  </thead>\n",
       "  <tbody>\n",
       "    <tr>\n",
       "      <th>0</th>\n",
       "      <td>11552667</td>\n",
       "      <td>JC100123</td>\n",
       "      <td>1/1/19 0:00</td>\n",
       "      <td>004XX N STATE ST</td>\n",
       "      <td>890</td>\n",
       "      <td>THEFT</td>\n",
       "      <td>FROM BUILDING</td>\n",
       "      <td>RESTAURANT</td>\n",
       "      <td>False</td>\n",
       "      <td>False</td>\n",
       "      <td>...</td>\n",
       "      <td>8.0</td>\n",
       "      <td>6</td>\n",
       "      <td>1176302.0</td>\n",
       "      <td>1903096.0</td>\n",
       "      <td>2019</td>\n",
       "      <td>1/10/19 15:16</td>\n",
       "      <td>41.889453</td>\n",
       "      <td>-87.627995</td>\n",
       "      <td>(41.889453169, -87.627994833)</td>\n",
       "      <td>THEFT</td>\n",
       "    </tr>\n",
       "    <tr>\n",
       "      <th>1</th>\n",
       "      <td>11552674</td>\n",
       "      <td>JC100085</td>\n",
       "      <td>1/1/19 0:00</td>\n",
       "      <td>092XX S NORMAL AVE</td>\n",
       "      <td>910</td>\n",
       "      <td>MOTOR VEHICLE THEFT</td>\n",
       "      <td>AUTOMOBILE</td>\n",
       "      <td>STREET</td>\n",
       "      <td>False</td>\n",
       "      <td>False</td>\n",
       "      <td>...</td>\n",
       "      <td>73.0</td>\n",
       "      <td>7</td>\n",
       "      <td>1174586.0</td>\n",
       "      <td>1843723.0</td>\n",
       "      <td>2019</td>\n",
       "      <td>1/10/19 15:16</td>\n",
       "      <td>41.726566</td>\n",
       "      <td>-87.636066</td>\n",
       "      <td>(41.726566477, -87.636065622)</td>\n",
       "      <td>THEFT</td>\n",
       "    </tr>\n",
       "    <tr>\n",
       "      <th>4</th>\n",
       "      <td>11553168</td>\n",
       "      <td>JC100745</td>\n",
       "      <td>1/1/19 0:00</td>\n",
       "      <td>008XX N MICHIGAN AVE</td>\n",
       "      <td>890</td>\n",
       "      <td>THEFT</td>\n",
       "      <td>FROM BUILDING</td>\n",
       "      <td>RESTAURANT</td>\n",
       "      <td>False</td>\n",
       "      <td>False</td>\n",
       "      <td>...</td>\n",
       "      <td>8.0</td>\n",
       "      <td>6</td>\n",
       "      <td>1177330.0</td>\n",
       "      <td>1906499.0</td>\n",
       "      <td>2019</td>\n",
       "      <td>1/10/19 15:16</td>\n",
       "      <td>41.898768</td>\n",
       "      <td>-87.624116</td>\n",
       "      <td>(41.898767916, -87.624116333)</td>\n",
       "      <td>THEFT</td>\n",
       "    </tr>\n",
       "    <tr>\n",
       "      <th>6</th>\n",
       "      <td>11553495</td>\n",
       "      <td>JC101115</td>\n",
       "      <td>1/1/19 0:00</td>\n",
       "      <td>047XX N RACINE AVE</td>\n",
       "      <td>281</td>\n",
       "      <td>CRIM SEXUAL ASSAULT</td>\n",
       "      <td>NON-AGGRAVATED</td>\n",
       "      <td>OTHER</td>\n",
       "      <td>False</td>\n",
       "      <td>False</td>\n",
       "      <td>...</td>\n",
       "      <td>3.0</td>\n",
       "      <td>2</td>\n",
       "      <td>1167451.0</td>\n",
       "      <td>1931818.0</td>\n",
       "      <td>2019</td>\n",
       "      <td>1/10/19 15:16</td>\n",
       "      <td>41.968463</td>\n",
       "      <td>-87.659670</td>\n",
       "      <td>(41.968462892, -87.659670442)</td>\n",
       "      <td>SEXUAL_OFFENSE</td>\n",
       "    </tr>\n",
       "    <tr>\n",
       "      <th>9</th>\n",
       "      <td>11558163</td>\n",
       "      <td>JC106702</td>\n",
       "      <td>1/1/19 0:00</td>\n",
       "      <td>002XX W ONTARIO ST</td>\n",
       "      <td>890</td>\n",
       "      <td>THEFT</td>\n",
       "      <td>FROM BUILDING</td>\n",
       "      <td>BAR OR TAVERN</td>\n",
       "      <td>False</td>\n",
       "      <td>False</td>\n",
       "      <td>...</td>\n",
       "      <td>8.0</td>\n",
       "      <td>6</td>\n",
       "      <td>1174469.0</td>\n",
       "      <td>1904439.0</td>\n",
       "      <td>2019</td>\n",
       "      <td>1/10/19 15:16</td>\n",
       "      <td>41.893180</td>\n",
       "      <td>-87.634686</td>\n",
       "      <td>(41.893179585, -87.634686145)</td>\n",
       "      <td>THEFT</td>\n",
       "    </tr>\n",
       "  </tbody>\n",
       "</table>\n",
       "<p>5 rows × 23 columns</p>\n",
       "</div>"
      ],
      "text/plain": [
       "         id case_number         date                 block iucr  \\\n",
       "0  11552667    JC100123  1/1/19 0:00      004XX N STATE ST  890   \n",
       "1  11552674    JC100085  1/1/19 0:00    092XX S NORMAL AVE  910   \n",
       "4  11553168    JC100745  1/1/19 0:00  008XX N MICHIGAN AVE  890   \n",
       "6  11553495    JC101115  1/1/19 0:00    047XX N RACINE AVE  281   \n",
       "9  11558163    JC106702  1/1/19 0:00    002XX W ONTARIO ST  890   \n",
       "\n",
       "          primary_type     description location_description arrest domestic  \\\n",
       "0                THEFT   FROM BUILDING           RESTAURANT  False    False   \n",
       "1  MOTOR VEHICLE THEFT      AUTOMOBILE               STREET  False    False   \n",
       "4                THEFT   FROM BUILDING           RESTAURANT  False    False   \n",
       "6  CRIM SEXUAL ASSAULT  NON-AGGRAVATED                OTHER  False    False   \n",
       "9                THEFT   FROM BUILDING        BAR OR TAVERN  False    False   \n",
       "\n",
       "   ... community_area fbi_code  x_coordinate y_coordinate  year  \\\n",
       "0  ...            8.0        6     1176302.0    1903096.0  2019   \n",
       "1  ...           73.0        7     1174586.0    1843723.0  2019   \n",
       "4  ...            8.0        6     1177330.0    1906499.0  2019   \n",
       "6  ...            3.0        2     1167451.0    1931818.0  2019   \n",
       "9  ...            8.0        6     1174469.0    1904439.0  2019   \n",
       "\n",
       "      updated_on   latitude  longitude                       location  \\\n",
       "0  1/10/19 15:16  41.889453 -87.627995  (41.889453169, -87.627994833)   \n",
       "1  1/10/19 15:16  41.726566 -87.636066  (41.726566477, -87.636065622)   \n",
       "4  1/10/19 15:16  41.898768 -87.624116  (41.898767916, -87.624116333)   \n",
       "6  1/10/19 15:16  41.968463 -87.659670  (41.968462892, -87.659670442)   \n",
       "9  1/10/19 15:16  41.893180 -87.634686  (41.893179585, -87.634686145)   \n",
       "\n",
       "   primary_type_grouped  \n",
       "0                 THEFT  \n",
       "1                 THEFT  \n",
       "4                 THEFT  \n",
       "6        SEXUAL_OFFENSE  \n",
       "9                 THEFT  \n",
       "\n",
       "[5 rows x 23 columns]"
      ]
     },
     "execution_count": 905,
     "metadata": {},
     "output_type": "execute_result"
    }
   ],
   "source": [
    "# Making a new dataframe for the model with features used\n",
    "crimes_data_type = crimes_df.loc[crimes_df.primary_type_grouped.isin(['THEFT','SEXUAL_OFFENSE','WEAPONS_OFFENSE'])]\n",
    "crimes_data_type.head()\n",
    "\n"
   ]
  },
  {
   "cell_type": "code",
   "execution_count": 906,
   "metadata": {},
   "outputs": [
    {
     "name": "stderr",
     "output_type": "stream",
     "text": [
      "C:\\Users\\syarla3\\AppData\\Local\\Temp\\ipykernel_27980\\2508616501.py:1: SettingWithCopyWarning: \n",
      "A value is trying to be set on a copy of a slice from a DataFrame.\n",
      "Try using .loc[row_indexer,col_indexer] = value instead\n",
      "\n",
      "See the caveats in the documentation: https://pandas.pydata.org/pandas-docs/stable/user_guide/indexing.html#returning-a-view-versus-a-copy\n",
      "  crimes_data_type['primary_type_grouped'] = crimes_data_type.primary_type_grouped.astype('category').cat.codes\n"
     ]
    }
   ],
   "source": [
    "crimes_data_type['primary_type_grouped'] = crimes_data_type.primary_type_grouped.astype('category').cat.codes\n"
   ]
  },
  {
   "cell_type": "code",
   "execution_count": 907,
   "metadata": {},
   "outputs": [
    {
     "data": {
      "text/html": [
       "<div>\n",
       "<style scoped>\n",
       "    .dataframe tbody tr th:only-of-type {\n",
       "        vertical-align: middle;\n",
       "    }\n",
       "\n",
       "    .dataframe tbody tr th {\n",
       "        vertical-align: top;\n",
       "    }\n",
       "\n",
       "    .dataframe thead th {\n",
       "        text-align: right;\n",
       "    }\n",
       "</style>\n",
       "<table border=\"1\" class=\"dataframe\">\n",
       "  <thead>\n",
       "    <tr style=\"text-align: right;\">\n",
       "      <th></th>\n",
       "      <th>id</th>\n",
       "      <th>case_number</th>\n",
       "      <th>date</th>\n",
       "      <th>block</th>\n",
       "      <th>iucr</th>\n",
       "      <th>primary_type</th>\n",
       "      <th>description</th>\n",
       "      <th>location_description</th>\n",
       "      <th>arrest</th>\n",
       "      <th>domestic</th>\n",
       "      <th>...</th>\n",
       "      <th>community_area</th>\n",
       "      <th>fbi_code</th>\n",
       "      <th>x_coordinate</th>\n",
       "      <th>y_coordinate</th>\n",
       "      <th>year</th>\n",
       "      <th>updated_on</th>\n",
       "      <th>latitude</th>\n",
       "      <th>longitude</th>\n",
       "      <th>location</th>\n",
       "      <th>primary_type_grouped</th>\n",
       "    </tr>\n",
       "  </thead>\n",
       "  <tbody>\n",
       "    <tr>\n",
       "      <th>0</th>\n",
       "      <td>11552667</td>\n",
       "      <td>JC100123</td>\n",
       "      <td>1/1/19 0:00</td>\n",
       "      <td>004XX N STATE ST</td>\n",
       "      <td>890</td>\n",
       "      <td>THEFT</td>\n",
       "      <td>FROM BUILDING</td>\n",
       "      <td>RESTAURANT</td>\n",
       "      <td>False</td>\n",
       "      <td>False</td>\n",
       "      <td>...</td>\n",
       "      <td>8.0</td>\n",
       "      <td>6</td>\n",
       "      <td>1176302.0</td>\n",
       "      <td>1903096.0</td>\n",
       "      <td>2019</td>\n",
       "      <td>1/10/19 15:16</td>\n",
       "      <td>41.889453</td>\n",
       "      <td>-87.627995</td>\n",
       "      <td>(41.889453169, -87.627994833)</td>\n",
       "      <td>1</td>\n",
       "    </tr>\n",
       "    <tr>\n",
       "      <th>1</th>\n",
       "      <td>11552674</td>\n",
       "      <td>JC100085</td>\n",
       "      <td>1/1/19 0:00</td>\n",
       "      <td>092XX S NORMAL AVE</td>\n",
       "      <td>910</td>\n",
       "      <td>MOTOR VEHICLE THEFT</td>\n",
       "      <td>AUTOMOBILE</td>\n",
       "      <td>STREET</td>\n",
       "      <td>False</td>\n",
       "      <td>False</td>\n",
       "      <td>...</td>\n",
       "      <td>73.0</td>\n",
       "      <td>7</td>\n",
       "      <td>1174586.0</td>\n",
       "      <td>1843723.0</td>\n",
       "      <td>2019</td>\n",
       "      <td>1/10/19 15:16</td>\n",
       "      <td>41.726566</td>\n",
       "      <td>-87.636066</td>\n",
       "      <td>(41.726566477, -87.636065622)</td>\n",
       "      <td>1</td>\n",
       "    </tr>\n",
       "    <tr>\n",
       "      <th>4</th>\n",
       "      <td>11553168</td>\n",
       "      <td>JC100745</td>\n",
       "      <td>1/1/19 0:00</td>\n",
       "      <td>008XX N MICHIGAN AVE</td>\n",
       "      <td>890</td>\n",
       "      <td>THEFT</td>\n",
       "      <td>FROM BUILDING</td>\n",
       "      <td>RESTAURANT</td>\n",
       "      <td>False</td>\n",
       "      <td>False</td>\n",
       "      <td>...</td>\n",
       "      <td>8.0</td>\n",
       "      <td>6</td>\n",
       "      <td>1177330.0</td>\n",
       "      <td>1906499.0</td>\n",
       "      <td>2019</td>\n",
       "      <td>1/10/19 15:16</td>\n",
       "      <td>41.898768</td>\n",
       "      <td>-87.624116</td>\n",
       "      <td>(41.898767916, -87.624116333)</td>\n",
       "      <td>1</td>\n",
       "    </tr>\n",
       "    <tr>\n",
       "      <th>6</th>\n",
       "      <td>11553495</td>\n",
       "      <td>JC101115</td>\n",
       "      <td>1/1/19 0:00</td>\n",
       "      <td>047XX N RACINE AVE</td>\n",
       "      <td>281</td>\n",
       "      <td>CRIM SEXUAL ASSAULT</td>\n",
       "      <td>NON-AGGRAVATED</td>\n",
       "      <td>OTHER</td>\n",
       "      <td>False</td>\n",
       "      <td>False</td>\n",
       "      <td>...</td>\n",
       "      <td>3.0</td>\n",
       "      <td>2</td>\n",
       "      <td>1167451.0</td>\n",
       "      <td>1931818.0</td>\n",
       "      <td>2019</td>\n",
       "      <td>1/10/19 15:16</td>\n",
       "      <td>41.968463</td>\n",
       "      <td>-87.659670</td>\n",
       "      <td>(41.968462892, -87.659670442)</td>\n",
       "      <td>0</td>\n",
       "    </tr>\n",
       "    <tr>\n",
       "      <th>9</th>\n",
       "      <td>11558163</td>\n",
       "      <td>JC106702</td>\n",
       "      <td>1/1/19 0:00</td>\n",
       "      <td>002XX W ONTARIO ST</td>\n",
       "      <td>890</td>\n",
       "      <td>THEFT</td>\n",
       "      <td>FROM BUILDING</td>\n",
       "      <td>BAR OR TAVERN</td>\n",
       "      <td>False</td>\n",
       "      <td>False</td>\n",
       "      <td>...</td>\n",
       "      <td>8.0</td>\n",
       "      <td>6</td>\n",
       "      <td>1174469.0</td>\n",
       "      <td>1904439.0</td>\n",
       "      <td>2019</td>\n",
       "      <td>1/10/19 15:16</td>\n",
       "      <td>41.893180</td>\n",
       "      <td>-87.634686</td>\n",
       "      <td>(41.893179585, -87.634686145)</td>\n",
       "      <td>1</td>\n",
       "    </tr>\n",
       "  </tbody>\n",
       "</table>\n",
       "<p>5 rows × 23 columns</p>\n",
       "</div>"
      ],
      "text/plain": [
       "         id case_number         date                 block iucr  \\\n",
       "0  11552667    JC100123  1/1/19 0:00      004XX N STATE ST  890   \n",
       "1  11552674    JC100085  1/1/19 0:00    092XX S NORMAL AVE  910   \n",
       "4  11553168    JC100745  1/1/19 0:00  008XX N MICHIGAN AVE  890   \n",
       "6  11553495    JC101115  1/1/19 0:00    047XX N RACINE AVE  281   \n",
       "9  11558163    JC106702  1/1/19 0:00    002XX W ONTARIO ST  890   \n",
       "\n",
       "          primary_type     description location_description arrest domestic  \\\n",
       "0                THEFT   FROM BUILDING           RESTAURANT  False    False   \n",
       "1  MOTOR VEHICLE THEFT      AUTOMOBILE               STREET  False    False   \n",
       "4                THEFT   FROM BUILDING           RESTAURANT  False    False   \n",
       "6  CRIM SEXUAL ASSAULT  NON-AGGRAVATED                OTHER  False    False   \n",
       "9                THEFT   FROM BUILDING        BAR OR TAVERN  False    False   \n",
       "\n",
       "   ... community_area fbi_code  x_coordinate y_coordinate  year  \\\n",
       "0  ...            8.0        6     1176302.0    1903096.0  2019   \n",
       "1  ...           73.0        7     1174586.0    1843723.0  2019   \n",
       "4  ...            8.0        6     1177330.0    1906499.0  2019   \n",
       "6  ...            3.0        2     1167451.0    1931818.0  2019   \n",
       "9  ...            8.0        6     1174469.0    1904439.0  2019   \n",
       "\n",
       "      updated_on   latitude  longitude                       location  \\\n",
       "0  1/10/19 15:16  41.889453 -87.627995  (41.889453169, -87.627994833)   \n",
       "1  1/10/19 15:16  41.726566 -87.636066  (41.726566477, -87.636065622)   \n",
       "4  1/10/19 15:16  41.898768 -87.624116  (41.898767916, -87.624116333)   \n",
       "6  1/10/19 15:16  41.968463 -87.659670  (41.968462892, -87.659670442)   \n",
       "9  1/10/19 15:16  41.893180 -87.634686  (41.893179585, -87.634686145)   \n",
       "\n",
       "   primary_type_grouped  \n",
       "0                     1  \n",
       "1                     1  \n",
       "4                     1  \n",
       "6                     0  \n",
       "9                     1  \n",
       "\n",
       "[5 rows x 23 columns]"
      ]
     },
     "execution_count": 907,
     "metadata": {},
     "output_type": "execute_result"
    }
   ],
   "source": [
    "crimes_data_type.head()"
   ]
  },
  {
   "cell_type": "code",
   "execution_count": 908,
   "metadata": {},
   "outputs": [],
   "source": [
    "# Dropping unnecessary columns which are not required for this prediction  \n",
    "crimes_data_prediction = crimes_data_type.drop(['id','case_number','location','date','block','iucr','description','location_description','primary_type','fbi_code','updated_on','x_coordinate','y_coordinate','primary_type_grouped'],axis=1)\n"
   ]
  },
  {
   "cell_type": "code",
   "execution_count": 909,
   "metadata": {},
   "outputs": [],
   "source": [
    "crimes_data_prediction_type=crimes_data_type[['primary_type_grouped']]"
   ]
  },
  {
   "cell_type": "code",
   "execution_count": 910,
   "metadata": {},
   "outputs": [
    {
     "data": {
      "text/html": [
       "<div>\n",
       "<style scoped>\n",
       "    .dataframe tbody tr th:only-of-type {\n",
       "        vertical-align: middle;\n",
       "    }\n",
       "\n",
       "    .dataframe tbody tr th {\n",
       "        vertical-align: top;\n",
       "    }\n",
       "\n",
       "    .dataframe thead th {\n",
       "        text-align: right;\n",
       "    }\n",
       "</style>\n",
       "<table border=\"1\" class=\"dataframe\">\n",
       "  <thead>\n",
       "    <tr style=\"text-align: right;\">\n",
       "      <th></th>\n",
       "      <th>primary_type_grouped</th>\n",
       "    </tr>\n",
       "  </thead>\n",
       "  <tbody>\n",
       "    <tr>\n",
       "      <th>0</th>\n",
       "      <td>1</td>\n",
       "    </tr>\n",
       "    <tr>\n",
       "      <th>1</th>\n",
       "      <td>1</td>\n",
       "    </tr>\n",
       "    <tr>\n",
       "      <th>4</th>\n",
       "      <td>1</td>\n",
       "    </tr>\n",
       "    <tr>\n",
       "      <th>6</th>\n",
       "      <td>0</td>\n",
       "    </tr>\n",
       "    <tr>\n",
       "      <th>9</th>\n",
       "      <td>1</td>\n",
       "    </tr>\n",
       "  </tbody>\n",
       "</table>\n",
       "</div>"
      ],
      "text/plain": [
       "   primary_type_grouped\n",
       "0                     1\n",
       "1                     1\n",
       "4                     1\n",
       "6                     0\n",
       "9                     1"
      ]
     },
     "execution_count": 910,
     "metadata": {},
     "output_type": "execute_result"
    }
   ],
   "source": [
    "crimes_data_prediction_type.head()"
   ]
  },
  {
   "cell_type": "code",
   "execution_count": 911,
   "metadata": {},
   "outputs": [
    {
     "data": {
      "text/html": [
       "<div>\n",
       "<style scoped>\n",
       "    .dataframe tbody tr th:only-of-type {\n",
       "        vertical-align: middle;\n",
       "    }\n",
       "\n",
       "    .dataframe tbody tr th {\n",
       "        vertical-align: top;\n",
       "    }\n",
       "\n",
       "    .dataframe thead th {\n",
       "        text-align: right;\n",
       "    }\n",
       "</style>\n",
       "<table border=\"1\" class=\"dataframe\">\n",
       "  <thead>\n",
       "    <tr style=\"text-align: right;\">\n",
       "      <th></th>\n",
       "      <th>arrest</th>\n",
       "      <th>domestic</th>\n",
       "      <th>beat</th>\n",
       "      <th>district</th>\n",
       "      <th>ward</th>\n",
       "      <th>community_area</th>\n",
       "      <th>year</th>\n",
       "      <th>latitude</th>\n",
       "      <th>longitude</th>\n",
       "    </tr>\n",
       "  </thead>\n",
       "  <tbody>\n",
       "    <tr>\n",
       "      <th>0</th>\n",
       "      <td>False</td>\n",
       "      <td>False</td>\n",
       "      <td>1831</td>\n",
       "      <td>18</td>\n",
       "      <td>42.0</td>\n",
       "      <td>8.0</td>\n",
       "      <td>2019</td>\n",
       "      <td>41.889453</td>\n",
       "      <td>-87.627995</td>\n",
       "    </tr>\n",
       "    <tr>\n",
       "      <th>1</th>\n",
       "      <td>False</td>\n",
       "      <td>False</td>\n",
       "      <td>2223</td>\n",
       "      <td>22</td>\n",
       "      <td>21.0</td>\n",
       "      <td>73.0</td>\n",
       "      <td>2019</td>\n",
       "      <td>41.726566</td>\n",
       "      <td>-87.636066</td>\n",
       "    </tr>\n",
       "    <tr>\n",
       "      <th>4</th>\n",
       "      <td>False</td>\n",
       "      <td>False</td>\n",
       "      <td>1833</td>\n",
       "      <td>18</td>\n",
       "      <td>2.0</td>\n",
       "      <td>8.0</td>\n",
       "      <td>2019</td>\n",
       "      <td>41.898768</td>\n",
       "      <td>-87.624116</td>\n",
       "    </tr>\n",
       "    <tr>\n",
       "      <th>6</th>\n",
       "      <td>False</td>\n",
       "      <td>False</td>\n",
       "      <td>1913</td>\n",
       "      <td>19</td>\n",
       "      <td>46.0</td>\n",
       "      <td>3.0</td>\n",
       "      <td>2019</td>\n",
       "      <td>41.968463</td>\n",
       "      <td>-87.659670</td>\n",
       "    </tr>\n",
       "    <tr>\n",
       "      <th>9</th>\n",
       "      <td>False</td>\n",
       "      <td>False</td>\n",
       "      <td>1831</td>\n",
       "      <td>18</td>\n",
       "      <td>42.0</td>\n",
       "      <td>8.0</td>\n",
       "      <td>2019</td>\n",
       "      <td>41.893180</td>\n",
       "      <td>-87.634686</td>\n",
       "    </tr>\n",
       "  </tbody>\n",
       "</table>\n",
       "</div>"
      ],
      "text/plain": [
       "  arrest domestic  beat district  ward community_area  year   latitude  \\\n",
       "0  False    False  1831       18  42.0            8.0  2019  41.889453   \n",
       "1  False    False  2223       22  21.0           73.0  2019  41.726566   \n",
       "4  False    False  1833       18   2.0            8.0  2019  41.898768   \n",
       "6  False    False  1913       19  46.0            3.0  2019  41.968463   \n",
       "9  False    False  1831       18  42.0            8.0  2019  41.893180   \n",
       "\n",
       "   longitude  \n",
       "0 -87.627995  \n",
       "1 -87.636066  \n",
       "4 -87.624116  \n",
       "6 -87.659670  \n",
       "9 -87.634686  "
      ]
     },
     "execution_count": 911,
     "metadata": {},
     "output_type": "execute_result"
    }
   ],
   "source": [
    "crimes_data_prediction.head()"
   ]
  },
  {
   "cell_type": "code",
   "execution_count": 912,
   "metadata": {},
   "outputs": [
    {
     "data": {
      "text/html": [
       "<div>\n",
       "<style scoped>\n",
       "    .dataframe tbody tr th:only-of-type {\n",
       "        vertical-align: middle;\n",
       "    }\n",
       "\n",
       "    .dataframe tbody tr th {\n",
       "        vertical-align: top;\n",
       "    }\n",
       "\n",
       "    .dataframe thead th {\n",
       "        text-align: right;\n",
       "    }\n",
       "</style>\n",
       "<table border=\"1\" class=\"dataframe\">\n",
       "  <thead>\n",
       "    <tr style=\"text-align: right;\">\n",
       "      <th></th>\n",
       "      <th>primary_type_grouped</th>\n",
       "    </tr>\n",
       "  </thead>\n",
       "  <tbody>\n",
       "    <tr>\n",
       "      <th>0</th>\n",
       "      <td>1</td>\n",
       "    </tr>\n",
       "    <tr>\n",
       "      <th>1</th>\n",
       "      <td>1</td>\n",
       "    </tr>\n",
       "    <tr>\n",
       "      <th>4</th>\n",
       "      <td>1</td>\n",
       "    </tr>\n",
       "    <tr>\n",
       "      <th>6</th>\n",
       "      <td>0</td>\n",
       "    </tr>\n",
       "    <tr>\n",
       "      <th>9</th>\n",
       "      <td>1</td>\n",
       "    </tr>\n",
       "  </tbody>\n",
       "</table>\n",
       "</div>"
      ],
      "text/plain": [
       "   primary_type_grouped\n",
       "0                     1\n",
       "1                     1\n",
       "4                     1\n",
       "6                     0\n",
       "9                     1"
      ]
     },
     "execution_count": 912,
     "metadata": {},
     "output_type": "execute_result"
    }
   ],
   "source": [
    "crimes_data_prediction_type.head()"
   ]
  },
  {
   "cell_type": "code",
   "execution_count": 913,
   "metadata": {},
   "outputs": [],
   "source": [
    "# formulating into 2 dimentional binary matrix \n",
    "#crimes_data_prediction = pd.get_dummies(crimes_data_prediction,drop_first=True)\n",
    "#crimes_data_prediction.head()"
   ]
  },
  {
   "cell_type": "code",
   "execution_count": 914,
   "metadata": {},
   "outputs": [],
   "source": [
    "crimes_data_prediction=crimes_data_prediction.to_numpy()\n",
    "crimes_data_prediction_type=crimes_data_prediction_type.to_numpy()"
   ]
  },
  {
   "cell_type": "markdown",
   "metadata": {},
   "source": [
    "##### Keeping grouped primary type of crime as target feature (i.e crimes_data_prediction_type)"
   ]
  },
  {
   "cell_type": "code",
   "execution_count": 915,
   "metadata": {},
   "outputs": [],
   "source": [
    "# Spliting the data into training and testing where test size as 30%\n",
    "XX_train, XX_test, yy_train, yy_test = train_test_split(crimes_data_prediction,crimes_data_prediction_type, test_size=0.3, random_state=42)"
   ]
  },
  {
   "cell_type": "code",
   "execution_count": 916,
   "metadata": {},
   "outputs": [
    {
     "data": {
      "text/plain": [
       "((174488, 9), (74781, 9), (74781, 1), (174488, 1))"
      ]
     },
     "execution_count": 916,
     "metadata": {},
     "output_type": "execute_result"
    }
   ],
   "source": [
    "XX_train.shape,XX_test.shape,yy_test.shape,yy_train.shape"
   ]
  },
  {
   "cell_type": "code",
   "execution_count": 917,
   "metadata": {},
   "outputs": [
    {
     "data": {
      "text/html": [
       "<style>#sk-container-id-24 {color: black;background-color: white;}#sk-container-id-24 pre{padding: 0;}#sk-container-id-24 div.sk-toggleable {background-color: white;}#sk-container-id-24 label.sk-toggleable__label {cursor: pointer;display: block;width: 100%;margin-bottom: 0;padding: 0.3em;box-sizing: border-box;text-align: center;}#sk-container-id-24 label.sk-toggleable__label-arrow:before {content: \"▸\";float: left;margin-right: 0.25em;color: #696969;}#sk-container-id-24 label.sk-toggleable__label-arrow:hover:before {color: black;}#sk-container-id-24 div.sk-estimator:hover label.sk-toggleable__label-arrow:before {color: black;}#sk-container-id-24 div.sk-toggleable__content {max-height: 0;max-width: 0;overflow: hidden;text-align: left;background-color: #f0f8ff;}#sk-container-id-24 div.sk-toggleable__content pre {margin: 0.2em;color: black;border-radius: 0.25em;background-color: #f0f8ff;}#sk-container-id-24 input.sk-toggleable__control:checked~div.sk-toggleable__content {max-height: 200px;max-width: 100%;overflow: auto;}#sk-container-id-24 input.sk-toggleable__control:checked~label.sk-toggleable__label-arrow:before {content: \"▾\";}#sk-container-id-24 div.sk-estimator input.sk-toggleable__control:checked~label.sk-toggleable__label {background-color: #d4ebff;}#sk-container-id-24 div.sk-label input.sk-toggleable__control:checked~label.sk-toggleable__label {background-color: #d4ebff;}#sk-container-id-24 input.sk-hidden--visually {border: 0;clip: rect(1px 1px 1px 1px);clip: rect(1px, 1px, 1px, 1px);height: 1px;margin: -1px;overflow: hidden;padding: 0;position: absolute;width: 1px;}#sk-container-id-24 div.sk-estimator {font-family: monospace;background-color: #f0f8ff;border: 1px dotted black;border-radius: 0.25em;box-sizing: border-box;margin-bottom: 0.5em;}#sk-container-id-24 div.sk-estimator:hover {background-color: #d4ebff;}#sk-container-id-24 div.sk-parallel-item::after {content: \"\";width: 100%;border-bottom: 1px solid gray;flex-grow: 1;}#sk-container-id-24 div.sk-label:hover label.sk-toggleable__label {background-color: #d4ebff;}#sk-container-id-24 div.sk-serial::before {content: \"\";position: absolute;border-left: 1px solid gray;box-sizing: border-box;top: 0;bottom: 0;left: 50%;z-index: 0;}#sk-container-id-24 div.sk-serial {display: flex;flex-direction: column;align-items: center;background-color: white;padding-right: 0.2em;padding-left: 0.2em;position: relative;}#sk-container-id-24 div.sk-item {position: relative;z-index: 1;}#sk-container-id-24 div.sk-parallel {display: flex;align-items: stretch;justify-content: center;background-color: white;position: relative;}#sk-container-id-24 div.sk-item::before, #sk-container-id-24 div.sk-parallel-item::before {content: \"\";position: absolute;border-left: 1px solid gray;box-sizing: border-box;top: 0;bottom: 0;left: 50%;z-index: -1;}#sk-container-id-24 div.sk-parallel-item {display: flex;flex-direction: column;z-index: 1;position: relative;background-color: white;}#sk-container-id-24 div.sk-parallel-item:first-child::after {align-self: flex-end;width: 50%;}#sk-container-id-24 div.sk-parallel-item:last-child::after {align-self: flex-start;width: 50%;}#sk-container-id-24 div.sk-parallel-item:only-child::after {width: 0;}#sk-container-id-24 div.sk-dashed-wrapped {border: 1px dashed gray;margin: 0 0.4em 0.5em 0.4em;box-sizing: border-box;padding-bottom: 0.4em;background-color: white;}#sk-container-id-24 div.sk-label label {font-family: monospace;font-weight: bold;display: inline-block;line-height: 1.2em;}#sk-container-id-24 div.sk-label-container {text-align: center;}#sk-container-id-24 div.sk-container {/* jupyter's `normalize.less` sets `[hidden] { display: none; }` but bootstrap.min.css set `[hidden] { display: none !important; }` so we also need the `!important` here to be able to override the default hidden behavior on the sphinx rendered scikit-learn.org. See: https://github.com/scikit-learn/scikit-learn/issues/21755 */display: inline-block !important;position: relative;}#sk-container-id-24 div.sk-text-repr-fallback {display: none;}</style><div id=\"sk-container-id-24\" class=\"sk-top-container\"><div class=\"sk-text-repr-fallback\"><pre>DecisionTreeClassifier(criterion=&#x27;entropy&#x27;, random_state=42)</pre><b>In a Jupyter environment, please rerun this cell to show the HTML representation or trust the notebook. <br />On GitHub, the HTML representation is unable to render, please try loading this page with nbviewer.org.</b></div><div class=\"sk-container\" hidden><div class=\"sk-item\"><div class=\"sk-estimator sk-toggleable\"><input class=\"sk-toggleable__control sk-hidden--visually\" id=\"sk-estimator-id-24\" type=\"checkbox\" checked><label for=\"sk-estimator-id-24\" class=\"sk-toggleable__label sk-toggleable__label-arrow\">DecisionTreeClassifier</label><div class=\"sk-toggleable__content\"><pre>DecisionTreeClassifier(criterion=&#x27;entropy&#x27;, random_state=42)</pre></div></div></div></div></div>"
      ],
      "text/plain": [
       "DecisionTreeClassifier(criterion='entropy', random_state=42)"
      ]
     },
     "execution_count": 917,
     "metadata": {},
     "output_type": "execute_result"
    }
   ],
   "source": [
    "# Using the model from sklearn and fitting it.\n",
    "\n",
    "model = tree.DecisionTreeClassifier(criterion = \"entropy\", random_state = 42)\n",
    "model.fit(XX_train, yy_train)"
   ]
  },
  {
   "cell_type": "code",
   "execution_count": 918,
   "metadata": {},
   "outputs": [],
   "source": [
    "# Making predictions\n",
    "yy_pred = model.predict(XX_test)"
   ]
  },
  {
   "cell_type": "code",
   "execution_count": 919,
   "metadata": {},
   "outputs": [
    {
     "name": "stdout",
     "output_type": "stream",
     "text": [
      "Accuracy =  0.877816557681764\n",
      "Error =  0.12218344231823597\n",
      "Classification Report\n",
      "               precision    recall  f1-score   support\n",
      "\n",
      "           0       0.21      0.23      0.22      1830\n",
      "           1       0.93      0.93      0.93     65663\n",
      "           2       0.56      0.53      0.55      7288\n",
      "\n",
      "    accuracy                           0.88     74781\n",
      "   macro avg       0.57      0.57      0.57     74781\n",
      "weighted avg       0.88      0.88      0.88     74781\n",
      "\n"
     ]
    }
   ],
   "source": [
    "#Classification Metrics\n",
    "from sklearn.metrics import confusion_matrix\n",
    "print('Accuracy = ',metrics.accuracy_score(yy_test, yy_pred))\n",
    "print('Error = ',1 - metrics.accuracy_score(yy_test, yy_pred))\n",
    "print('Classification Report\\n',metrics.classification_report(yy_test, yy_pred))\n",
    "#conff_matrix = pd. crosstab(yy_test,yy_pred)\n"
   ]
  },
  {
   "cell_type": "code",
   "execution_count": 920,
   "metadata": {},
   "outputs": [
    {
     "data": {
      "image/png": "[encoded data removed]",
      "text/plain": [
       "<Figure size 800x550 with 2 Axes>"
      ]
     },
     "metadata": {},
     "output_type": "display_data"
    }
   ],
   "source": [
    "#Visualization of Confusion Matrix\n",
    "import seaborn as sns\n",
    "%matplotlib inline\n",
    "sns.set_style(\"darkgrid\")\n",
    "sns.heatmap(conff_matrix, annot = True, fmt = \".3f\", square = True, cmap = plt.cm.Blues)\n",
    "plt.ylabel('Actual')\n",
    "plt.xlabel('Predicted')\n",
    "plt.title('Confusion matrix')\n",
    "plt.tight_layout()"
   ]
  },
  {
   "cell_type": "code",
   "execution_count": 921,
   "metadata": {},
   "outputs": [
    {
     "data": {
      "image/png": "[encoded data removed]",
      "text/plain": [
       "<Figure size 800x550 with 2 Axes>"
      ]
     },
     "metadata": {},
     "output_type": "display_data"
    },
    {
     "data": {
      "text/plain": [
       "<AxesSubplot: title={'center': 'DecisionTreeClassifier Classification Report'}>"
      ]
     },
     "execution_count": 921,
     "metadata": {},
     "output_type": "execute_result"
    }
   ],
   "source": [
    "from yellowbrick.classifier import ClassificationReport\n",
    "classes=['THEFT','SEXUAL_OFFENSE','WEAPONS_OFFENSE']\n",
    "\n",
    "visualizer = ClassificationReport(model, classes=classes, support=True)\n",
    "\n",
    "visualizer.fit(XX_train, yy_train)        # Fit the visualizer and the model\n",
    "visualizer.score(XX_test, yy_test)        # Evaluate the model on the test data\n",
    "visualizer.show() "
   ]
  },
  {
   "cell_type": "markdown",
   "metadata": {},
   "source": [
    "## Observation: By classification report,\n",
    "- Precision: In the case where theft was predicted as positive 21% were correctly predicted. \n",
    "- Recall: In the case of an sexual_offense 93% were classified correctly when an actual arrest happened.\n",
    "- f1: The weighted harmonic mean of precision and recall is a good value if its closer to 1 and this is almost close to 1 in this case.So it a good model.\n",
    "- Support: This shows the number of actual occurences of the classes in teh dataset we see that we have 1830 instances of theft whereas 65663 instances of sexual_offense and 7288 instances of weapon offense."
   ]
  },
  {
   "cell_type": "markdown",
   "metadata": {},
   "source": [
    "### Accuracy for Decision tree classifier : 88%"
   ]
  },
  {
   "cell_type": "markdown",
   "metadata": {},
   "source": [
    "## Random Forest Classifier"
   ]
  },
  {
   "cell_type": "code",
   "execution_count": 922,
   "metadata": {},
   "outputs": [],
   "source": [
    "from sklearn.ensemble import RandomForestClassifier\n",
    "import matplotlib.pyplot as plt\n",
    "import numpy as np\n",
    "from sklearn import metrics\n",
    "from sklearn.metrics import classification_report\n",
    "from sklearn.model_selection import train_test_split\n",
    "from sklearn import tree\n"
   ]
  },
  {
   "cell_type": "markdown",
   "metadata": {},
   "source": [
    "##### Importing the dataset"
   ]
  },
  {
   "cell_type": "code",
   "execution_count": 923,
   "metadata": {},
   "outputs": [
    {
     "data": {
      "text/html": [
       "<div>\n",
       "<style scoped>\n",
       "    .dataframe tbody tr th:only-of-type {\n",
       "        vertical-align: middle;\n",
       "    }\n",
       "\n",
       "    .dataframe tbody tr th {\n",
       "        vertical-align: top;\n",
       "    }\n",
       "\n",
       "    .dataframe thead th {\n",
       "        text-align: right;\n",
       "    }\n",
       "</style>\n",
       "<table border=\"1\" class=\"dataframe\">\n",
       "  <thead>\n",
       "    <tr style=\"text-align: right;\">\n",
       "      <th></th>\n",
       "      <th>ID</th>\n",
       "      <th>Case Number</th>\n",
       "      <th>Date</th>\n",
       "      <th>Block</th>\n",
       "      <th>IUCR</th>\n",
       "      <th>Primary Type</th>\n",
       "      <th>Description</th>\n",
       "      <th>Location Description</th>\n",
       "      <th>Arrest</th>\n",
       "      <th>Domestic</th>\n",
       "      <th>...</th>\n",
       "      <th>Ward</th>\n",
       "      <th>Community Area</th>\n",
       "      <th>FBI Code</th>\n",
       "      <th>X Coordinate</th>\n",
       "      <th>Y Coordinate</th>\n",
       "      <th>Year</th>\n",
       "      <th>Updated On</th>\n",
       "      <th>Latitude</th>\n",
       "      <th>Longitude</th>\n",
       "      <th>Location</th>\n",
       "    </tr>\n",
       "  </thead>\n",
       "  <tbody>\n",
       "    <tr>\n",
       "      <th>0</th>\n",
       "      <td>11552667</td>\n",
       "      <td>JC100123</td>\n",
       "      <td>1/1/19 0:00</td>\n",
       "      <td>004XX N STATE ST</td>\n",
       "      <td>890</td>\n",
       "      <td>THEFT</td>\n",
       "      <td>FROM BUILDING</td>\n",
       "      <td>RESTAURANT</td>\n",
       "      <td>False</td>\n",
       "      <td>False</td>\n",
       "      <td>...</td>\n",
       "      <td>42.0</td>\n",
       "      <td>8.0</td>\n",
       "      <td>6</td>\n",
       "      <td>1176302.0</td>\n",
       "      <td>1903096.0</td>\n",
       "      <td>2019</td>\n",
       "      <td>1/10/19 15:16</td>\n",
       "      <td>41.889453</td>\n",
       "      <td>-87.627995</td>\n",
       "      <td>(41.889453169, -87.627994833)</td>\n",
       "    </tr>\n",
       "    <tr>\n",
       "      <th>1</th>\n",
       "      <td>11552674</td>\n",
       "      <td>JC100085</td>\n",
       "      <td>1/1/19 0:00</td>\n",
       "      <td>092XX S NORMAL AVE</td>\n",
       "      <td>910</td>\n",
       "      <td>MOTOR VEHICLE THEFT</td>\n",
       "      <td>AUTOMOBILE</td>\n",
       "      <td>STREET</td>\n",
       "      <td>False</td>\n",
       "      <td>False</td>\n",
       "      <td>...</td>\n",
       "      <td>21.0</td>\n",
       "      <td>73.0</td>\n",
       "      <td>7</td>\n",
       "      <td>1174586.0</td>\n",
       "      <td>1843723.0</td>\n",
       "      <td>2019</td>\n",
       "      <td>1/10/19 15:16</td>\n",
       "      <td>41.726566</td>\n",
       "      <td>-87.636066</td>\n",
       "      <td>(41.726566477, -87.636065622)</td>\n",
       "    </tr>\n",
       "    <tr>\n",
       "      <th>2</th>\n",
       "      <td>11552709</td>\n",
       "      <td>JC100020</td>\n",
       "      <td>1/1/19 0:00</td>\n",
       "      <td>044XX S WASHTENAW AVE</td>\n",
       "      <td>486</td>\n",
       "      <td>BATTERY</td>\n",
       "      <td>DOMESTIC BATTERY SIMPLE</td>\n",
       "      <td>APARTMENT</td>\n",
       "      <td>False</td>\n",
       "      <td>True</td>\n",
       "      <td>...</td>\n",
       "      <td>15.0</td>\n",
       "      <td>58.0</td>\n",
       "      <td>08B</td>\n",
       "      <td>1159112.0</td>\n",
       "      <td>1875020.0</td>\n",
       "      <td>2019</td>\n",
       "      <td>1/10/19 15:16</td>\n",
       "      <td>41.812780</td>\n",
       "      <td>-87.691894</td>\n",
       "      <td>(41.812780011, -87.691893746)</td>\n",
       "    </tr>\n",
       "    <tr>\n",
       "      <th>3</th>\n",
       "      <td>11552758</td>\n",
       "      <td>JC100058</td>\n",
       "      <td>1/1/19 0:00</td>\n",
       "      <td>063XX S MARSHFIELD AVE</td>\n",
       "      <td>1310</td>\n",
       "      <td>CRIMINAL DAMAGE</td>\n",
       "      <td>TO PROPERTY</td>\n",
       "      <td>APARTMENT</td>\n",
       "      <td>False</td>\n",
       "      <td>False</td>\n",
       "      <td>...</td>\n",
       "      <td>16.0</td>\n",
       "      <td>67.0</td>\n",
       "      <td>14</td>\n",
       "      <td>1166414.0</td>\n",
       "      <td>1862607.0</td>\n",
       "      <td>2019</td>\n",
       "      <td>1/10/19 15:16</td>\n",
       "      <td>41.778565</td>\n",
       "      <td>-87.665464</td>\n",
       "      <td>(41.77856457, -87.665463557)</td>\n",
       "    </tr>\n",
       "    <tr>\n",
       "      <th>4</th>\n",
       "      <td>11553168</td>\n",
       "      <td>JC100745</td>\n",
       "      <td>1/1/19 0:00</td>\n",
       "      <td>008XX N MICHIGAN AVE</td>\n",
       "      <td>890</td>\n",
       "      <td>THEFT</td>\n",
       "      <td>FROM BUILDING</td>\n",
       "      <td>RESTAURANT</td>\n",
       "      <td>False</td>\n",
       "      <td>False</td>\n",
       "      <td>...</td>\n",
       "      <td>2.0</td>\n",
       "      <td>8.0</td>\n",
       "      <td>6</td>\n",
       "      <td>1177330.0</td>\n",
       "      <td>1906499.0</td>\n",
       "      <td>2019</td>\n",
       "      <td>1/10/19 15:16</td>\n",
       "      <td>41.898768</td>\n",
       "      <td>-87.624116</td>\n",
       "      <td>(41.898767916, -87.624116333)</td>\n",
       "    </tr>\n",
       "  </tbody>\n",
       "</table>\n",
       "<p>5 rows × 22 columns</p>\n",
       "</div>"
      ],
      "text/plain": [
       "         ID Case Number         Date                   Block  IUCR  \\\n",
       "0  11552667    JC100123  1/1/19 0:00        004XX N STATE ST   890   \n",
       "1  11552674    JC100085  1/1/19 0:00      092XX S NORMAL AVE   910   \n",
       "2  11552709    JC100020  1/1/19 0:00   044XX S WASHTENAW AVE   486   \n",
       "3  11552758    JC100058  1/1/19 0:00  063XX S MARSHFIELD AVE  1310   \n",
       "4  11553168    JC100745  1/1/19 0:00    008XX N MICHIGAN AVE   890   \n",
       "\n",
       "          Primary Type              Description Location Description  Arrest  \\\n",
       "0                THEFT            FROM BUILDING           RESTAURANT   False   \n",
       "1  MOTOR VEHICLE THEFT               AUTOMOBILE               STREET   False   \n",
       "2              BATTERY  DOMESTIC BATTERY SIMPLE            APARTMENT   False   \n",
       "3      CRIMINAL DAMAGE              TO PROPERTY            APARTMENT   False   \n",
       "4                THEFT            FROM BUILDING           RESTAURANT   False   \n",
       "\n",
       "   Domestic  ...  Ward  Community Area  FBI Code  X Coordinate Y Coordinate  \\\n",
       "0     False  ...  42.0             8.0         6     1176302.0    1903096.0   \n",
       "1     False  ...  21.0            73.0         7     1174586.0    1843723.0   \n",
       "2      True  ...  15.0            58.0       08B     1159112.0    1875020.0   \n",
       "3     False  ...  16.0            67.0        14     1166414.0    1862607.0   \n",
       "4     False  ...   2.0             8.0         6     1177330.0    1906499.0   \n",
       "\n",
       "   Year     Updated On   Latitude  Longitude                       Location  \n",
       "0  2019  1/10/19 15:16  41.889453 -87.627995  (41.889453169, -87.627994833)  \n",
       "1  2019  1/10/19 15:16  41.726566 -87.636066  (41.726566477, -87.636065622)  \n",
       "2  2019  1/10/19 15:16  41.812780 -87.691894  (41.812780011, -87.691893746)  \n",
       "3  2019  1/10/19 15:16  41.778565 -87.665464   (41.77856457, -87.665463557)  \n",
       "4  2019  1/10/19 15:16  41.898768 -87.624116  (41.898767916, -87.624116333)  \n",
       "\n",
       "[5 rows x 22 columns]"
      ]
     },
     "execution_count": 923,
     "metadata": {},
     "output_type": "execute_result"
    }
   ],
   "source": [
    "crimes_df = pd.read_csv('Crimes-2019_to_2021.csv')\n",
    "crimes_df.head(5)"
   ]
  },
  {
   "cell_type": "markdown",
   "metadata": {},
   "source": [
    "##### Converting the column names to a standard form and handling inconsistencies"
   ]
  },
  {
   "cell_type": "code",
   "execution_count": 924,
   "metadata": {},
   "outputs": [],
   "source": [
    "crimes_df.columns =crimes_df.columns.str.strip()\n",
    "crimes_df.columns = crimes_df.columns.str.replace(' ', '_')\n",
    "crimes_df.columns = crimes_df.columns.str.lower()"
   ]
  },
  {
   "cell_type": "markdown",
   "metadata": {},
   "source": [
    "##### Eliminating duplicate rows"
   ]
  },
  {
   "cell_type": "code",
   "execution_count": 925,
   "metadata": {},
   "outputs": [],
   "source": [
    "crimes_df=crimes_df.drop_duplicates()"
   ]
  },
  {
   "cell_type": "markdown",
   "metadata": {},
   "source": [
    "##### Handling missing values by dropping, replacing them "
   ]
  },
  {
   "cell_type": "code",
   "execution_count": 926,
   "metadata": {},
   "outputs": [],
   "source": [
    "crimes_df.dropna(subset = ['latitude','longitude','ward'], inplace = True)\n",
    "crimes_df.reset_index(drop = True, inplace = True)\n",
    "crimes_df['location_description'] = crimes_df['location_description'].fillna('Unavailable')"
   ]
  },
  {
   "cell_type": "markdown",
   "metadata": {},
   "source": [
    "##### Checking if there are any null values"
   ]
  },
  {
   "cell_type": "code",
   "execution_count": 927,
   "metadata": {},
   "outputs": [
    {
     "data": {
      "text/plain": [
       "id                      0\n",
       "case_number             0\n",
       "date                    0\n",
       "block                   0\n",
       "iucr                    0\n",
       "primary_type            0\n",
       "description             0\n",
       "location_description    0\n",
       "arrest                  0\n",
       "domestic                0\n",
       "beat                    0\n",
       "district                0\n",
       "ward                    0\n",
       "community_area          0\n",
       "fbi_code                0\n",
       "x_coordinate            0\n",
       "y_coordinate            0\n",
       "year                    0\n",
       "updated_on              0\n",
       "latitude                0\n",
       "longitude               0\n",
       "location                0\n",
       "dtype: int64"
      ]
     },
     "execution_count": 927,
     "metadata": {},
     "output_type": "execute_result"
    }
   ],
   "source": [
    "crimes_df.isna().sum()"
   ]
  },
  {
   "cell_type": "code",
   "execution_count": 928,
   "metadata": {},
   "outputs": [],
   "source": [
    "#Mapping similar crimes under one group.\n",
    "primary_type_map = {\n",
    "    ('BURGLARY','MOTOR VEHICLE THEFT','THEFT','ROBBERY') : 'THEFT',\n",
    "    ('BATTERY','ASSAULT','NON-CRIMINAL','NON-CRIMINAL (SUBJECT SPECIFIED)') : 'NON-CRIMINAL_ASSAULT',\n",
    "    ('CRIM SEXUAL ASSAULT','SEX OFFENSE','STALKING','PROSTITUTION') : 'SEXUAL_OFFENSE',\n",
    "    ('WEAPONS VIOLATION','CONCEALED CARRY LICENSE VIOLATION') :  'WEAPONS_OFFENSE',\n",
    "    ('HOMICIDE','CRIMINAL DAMAGE','DECEPTIVE PRACTICE','CRIMINAL TRESPASS') : 'CRIMINAL_OFFENSE',\n",
    "    ('KIDNAPPING','HUMAN TRAFFICKING','OFFENSE INVOLVING CHILDREN') : 'HUMAN_TRAFFICKING_OFFENSE',\n",
    "    ('NARCOTICS','OTHER NARCOTIC VIOLATION') : 'NARCOTIC_OFFENSE',\n",
    "    ('OTHER OFFENSE','ARSON','GAMBLING','PUBLIC PEACE VIOLATION','INTIMIDATION','INTERFERENCE WITH PUBLIC OFFICER','LIQUOR LAW VIOLATION','OBSCENITY','PUBLIC INDECENCY') : 'OTHER_OFFENSE'\n",
    "}\n",
    "primary_type_mapping = {}\n",
    "for keys, values in primary_type_map.items():\n",
    "    for key in keys:\n",
    "        primary_type_mapping[key] = values\n",
    "crimes_df['primary_type_grouped'] = crimes_df.primary_type.map(primary_type_mapping)"
   ]
  },
  {
   "cell_type": "code",
   "execution_count": 929,
   "metadata": {},
   "outputs": [],
   "source": [
    "#Converting the numercial attributes to categorical attributes\n",
    "crimes_df.year = pd.Categorical(crimes_df.year)\n",
    "crimes_df.domestic = pd.Categorical(crimes_df.domestic)\n",
    "crimes_df.arrest = pd.Categorical(crimes_df.arrest)\n",
    "crimes_df.beat = pd.Categorical(crimes_df.beat)\n",
    "crimes_df.district = pd.Categorical(crimes_df.district)\n",
    "crimes_df.community_area = pd.Categorical(crimes_df.community_area)"
   ]
  },
  {
   "cell_type": "code",
   "execution_count": 930,
   "metadata": {},
   "outputs": [
    {
     "data": {
      "text/html": [
       "<div>\n",
       "<style scoped>\n",
       "    .dataframe tbody tr th:only-of-type {\n",
       "        vertical-align: middle;\n",
       "    }\n",
       "\n",
       "    .dataframe tbody tr th {\n",
       "        vertical-align: top;\n",
       "    }\n",
       "\n",
       "    .dataframe thead th {\n",
       "        text-align: right;\n",
       "    }\n",
       "</style>\n",
       "<table border=\"1\" class=\"dataframe\">\n",
       "  <thead>\n",
       "    <tr style=\"text-align: right;\">\n",
       "      <th></th>\n",
       "      <th>id</th>\n",
       "      <th>case_number</th>\n",
       "      <th>date</th>\n",
       "      <th>block</th>\n",
       "      <th>iucr</th>\n",
       "      <th>primary_type</th>\n",
       "      <th>description</th>\n",
       "      <th>location_description</th>\n",
       "      <th>arrest</th>\n",
       "      <th>domestic</th>\n",
       "      <th>...</th>\n",
       "      <th>community_area</th>\n",
       "      <th>fbi_code</th>\n",
       "      <th>x_coordinate</th>\n",
       "      <th>y_coordinate</th>\n",
       "      <th>year</th>\n",
       "      <th>updated_on</th>\n",
       "      <th>latitude</th>\n",
       "      <th>longitude</th>\n",
       "      <th>location</th>\n",
       "      <th>primary_type_grouped</th>\n",
       "    </tr>\n",
       "  </thead>\n",
       "  <tbody>\n",
       "    <tr>\n",
       "      <th>0</th>\n",
       "      <td>11552667</td>\n",
       "      <td>JC100123</td>\n",
       "      <td>1/1/19 0:00</td>\n",
       "      <td>004XX N STATE ST</td>\n",
       "      <td>890</td>\n",
       "      <td>THEFT</td>\n",
       "      <td>FROM BUILDING</td>\n",
       "      <td>RESTAURANT</td>\n",
       "      <td>False</td>\n",
       "      <td>False</td>\n",
       "      <td>...</td>\n",
       "      <td>8.0</td>\n",
       "      <td>6</td>\n",
       "      <td>1176302.0</td>\n",
       "      <td>1903096.0</td>\n",
       "      <td>2019</td>\n",
       "      <td>1/10/19 15:16</td>\n",
       "      <td>41.889453</td>\n",
       "      <td>-87.627995</td>\n",
       "      <td>(41.889453169, -87.627994833)</td>\n",
       "      <td>THEFT</td>\n",
       "    </tr>\n",
       "    <tr>\n",
       "      <th>1</th>\n",
       "      <td>11552674</td>\n",
       "      <td>JC100085</td>\n",
       "      <td>1/1/19 0:00</td>\n",
       "      <td>092XX S NORMAL AVE</td>\n",
       "      <td>910</td>\n",
       "      <td>MOTOR VEHICLE THEFT</td>\n",
       "      <td>AUTOMOBILE</td>\n",
       "      <td>STREET</td>\n",
       "      <td>False</td>\n",
       "      <td>False</td>\n",
       "      <td>...</td>\n",
       "      <td>73.0</td>\n",
       "      <td>7</td>\n",
       "      <td>1174586.0</td>\n",
       "      <td>1843723.0</td>\n",
       "      <td>2019</td>\n",
       "      <td>1/10/19 15:16</td>\n",
       "      <td>41.726566</td>\n",
       "      <td>-87.636066</td>\n",
       "      <td>(41.726566477, -87.636065622)</td>\n",
       "      <td>THEFT</td>\n",
       "    </tr>\n",
       "    <tr>\n",
       "      <th>4</th>\n",
       "      <td>11553168</td>\n",
       "      <td>JC100745</td>\n",
       "      <td>1/1/19 0:00</td>\n",
       "      <td>008XX N MICHIGAN AVE</td>\n",
       "      <td>890</td>\n",
       "      <td>THEFT</td>\n",
       "      <td>FROM BUILDING</td>\n",
       "      <td>RESTAURANT</td>\n",
       "      <td>False</td>\n",
       "      <td>False</td>\n",
       "      <td>...</td>\n",
       "      <td>8.0</td>\n",
       "      <td>6</td>\n",
       "      <td>1177330.0</td>\n",
       "      <td>1906499.0</td>\n",
       "      <td>2019</td>\n",
       "      <td>1/10/19 15:16</td>\n",
       "      <td>41.898768</td>\n",
       "      <td>-87.624116</td>\n",
       "      <td>(41.898767916, -87.624116333)</td>\n",
       "      <td>THEFT</td>\n",
       "    </tr>\n",
       "    <tr>\n",
       "      <th>6</th>\n",
       "      <td>11553495</td>\n",
       "      <td>JC101115</td>\n",
       "      <td>1/1/19 0:00</td>\n",
       "      <td>047XX N RACINE AVE</td>\n",
       "      <td>281</td>\n",
       "      <td>CRIM SEXUAL ASSAULT</td>\n",
       "      <td>NON-AGGRAVATED</td>\n",
       "      <td>OTHER</td>\n",
       "      <td>False</td>\n",
       "      <td>False</td>\n",
       "      <td>...</td>\n",
       "      <td>3.0</td>\n",
       "      <td>2</td>\n",
       "      <td>1167451.0</td>\n",
       "      <td>1931818.0</td>\n",
       "      <td>2019</td>\n",
       "      <td>1/10/19 15:16</td>\n",
       "      <td>41.968463</td>\n",
       "      <td>-87.659670</td>\n",
       "      <td>(41.968462892, -87.659670442)</td>\n",
       "      <td>SEXUAL_OFFENSE</td>\n",
       "    </tr>\n",
       "    <tr>\n",
       "      <th>9</th>\n",
       "      <td>11558163</td>\n",
       "      <td>JC106702</td>\n",
       "      <td>1/1/19 0:00</td>\n",
       "      <td>002XX W ONTARIO ST</td>\n",
       "      <td>890</td>\n",
       "      <td>THEFT</td>\n",
       "      <td>FROM BUILDING</td>\n",
       "      <td>BAR OR TAVERN</td>\n",
       "      <td>False</td>\n",
       "      <td>False</td>\n",
       "      <td>...</td>\n",
       "      <td>8.0</td>\n",
       "      <td>6</td>\n",
       "      <td>1174469.0</td>\n",
       "      <td>1904439.0</td>\n",
       "      <td>2019</td>\n",
       "      <td>1/10/19 15:16</td>\n",
       "      <td>41.893180</td>\n",
       "      <td>-87.634686</td>\n",
       "      <td>(41.893179585, -87.634686145)</td>\n",
       "      <td>THEFT</td>\n",
       "    </tr>\n",
       "  </tbody>\n",
       "</table>\n",
       "<p>5 rows × 23 columns</p>\n",
       "</div>"
      ],
      "text/plain": [
       "         id case_number         date                 block iucr  \\\n",
       "0  11552667    JC100123  1/1/19 0:00      004XX N STATE ST  890   \n",
       "1  11552674    JC100085  1/1/19 0:00    092XX S NORMAL AVE  910   \n",
       "4  11553168    JC100745  1/1/19 0:00  008XX N MICHIGAN AVE  890   \n",
       "6  11553495    JC101115  1/1/19 0:00    047XX N RACINE AVE  281   \n",
       "9  11558163    JC106702  1/1/19 0:00    002XX W ONTARIO ST  890   \n",
       "\n",
       "          primary_type     description location_description arrest domestic  \\\n",
       "0                THEFT   FROM BUILDING           RESTAURANT  False    False   \n",
       "1  MOTOR VEHICLE THEFT      AUTOMOBILE               STREET  False    False   \n",
       "4                THEFT   FROM BUILDING           RESTAURANT  False    False   \n",
       "6  CRIM SEXUAL ASSAULT  NON-AGGRAVATED                OTHER  False    False   \n",
       "9                THEFT   FROM BUILDING        BAR OR TAVERN  False    False   \n",
       "\n",
       "   ... community_area fbi_code  x_coordinate y_coordinate  year  \\\n",
       "0  ...            8.0        6     1176302.0    1903096.0  2019   \n",
       "1  ...           73.0        7     1174586.0    1843723.0  2019   \n",
       "4  ...            8.0        6     1177330.0    1906499.0  2019   \n",
       "6  ...            3.0        2     1167451.0    1931818.0  2019   \n",
       "9  ...            8.0        6     1174469.0    1904439.0  2019   \n",
       "\n",
       "      updated_on   latitude  longitude                       location  \\\n",
       "0  1/10/19 15:16  41.889453 -87.627995  (41.889453169, -87.627994833)   \n",
       "1  1/10/19 15:16  41.726566 -87.636066  (41.726566477, -87.636065622)   \n",
       "4  1/10/19 15:16  41.898768 -87.624116  (41.898767916, -87.624116333)   \n",
       "6  1/10/19 15:16  41.968463 -87.659670  (41.968462892, -87.659670442)   \n",
       "9  1/10/19 15:16  41.893180 -87.634686  (41.893179585, -87.634686145)   \n",
       "\n",
       "   primary_type_grouped  \n",
       "0                 THEFT  \n",
       "1                 THEFT  \n",
       "4                 THEFT  \n",
       "6        SEXUAL_OFFENSE  \n",
       "9                 THEFT  \n",
       "\n",
       "[5 rows x 23 columns]"
      ]
     },
     "execution_count": 930,
     "metadata": {},
     "output_type": "execute_result"
    }
   ],
   "source": [
    "# Making a new dataframe for the model with features used\n",
    "crimes_data_type = crimes_df.loc[crimes_df.primary_type_grouped.isin(['THEFT','SEXUAL_OFFENSE','WEAPONS_OFFENSE'])]\n",
    "crimes_data_type.head()\n"
   ]
  },
  {
   "cell_type": "code",
   "execution_count": 931,
   "metadata": {},
   "outputs": [
    {
     "name": "stderr",
     "output_type": "stream",
     "text": [
      "C:\\Users\\syarla3\\AppData\\Local\\Temp\\ipykernel_27980\\3410947807.py:1: SettingWithCopyWarning: \n",
      "A value is trying to be set on a copy of a slice from a DataFrame.\n",
      "Try using .loc[row_indexer,col_indexer] = value instead\n",
      "\n",
      "See the caveats in the documentation: https://pandas.pydata.org/pandas-docs/stable/user_guide/indexing.html#returning-a-view-versus-a-copy\n",
      "  crimes_data_type['primary_type_grouped'] = crimes_data_type.primary_type_grouped.astype('category').cat.codes\n"
     ]
    }
   ],
   "source": [
    "crimes_data_type['primary_type_grouped'] = crimes_data_type.primary_type_grouped.astype('category').cat.codes"
   ]
  },
  {
   "cell_type": "code",
   "execution_count": 932,
   "metadata": {},
   "outputs": [
    {
     "data": {
      "text/html": [
       "<div>\n",
       "<style scoped>\n",
       "    .dataframe tbody tr th:only-of-type {\n",
       "        vertical-align: middle;\n",
       "    }\n",
       "\n",
       "    .dataframe tbody tr th {\n",
       "        vertical-align: top;\n",
       "    }\n",
       "\n",
       "    .dataframe thead th {\n",
       "        text-align: right;\n",
       "    }\n",
       "</style>\n",
       "<table border=\"1\" class=\"dataframe\">\n",
       "  <thead>\n",
       "    <tr style=\"text-align: right;\">\n",
       "      <th></th>\n",
       "      <th>id</th>\n",
       "      <th>case_number</th>\n",
       "      <th>date</th>\n",
       "      <th>block</th>\n",
       "      <th>iucr</th>\n",
       "      <th>primary_type</th>\n",
       "      <th>description</th>\n",
       "      <th>location_description</th>\n",
       "      <th>arrest</th>\n",
       "      <th>domestic</th>\n",
       "      <th>...</th>\n",
       "      <th>community_area</th>\n",
       "      <th>fbi_code</th>\n",
       "      <th>x_coordinate</th>\n",
       "      <th>y_coordinate</th>\n",
       "      <th>year</th>\n",
       "      <th>updated_on</th>\n",
       "      <th>latitude</th>\n",
       "      <th>longitude</th>\n",
       "      <th>location</th>\n",
       "      <th>primary_type_grouped</th>\n",
       "    </tr>\n",
       "  </thead>\n",
       "  <tbody>\n",
       "    <tr>\n",
       "      <th>0</th>\n",
       "      <td>11552667</td>\n",
       "      <td>JC100123</td>\n",
       "      <td>1/1/19 0:00</td>\n",
       "      <td>004XX N STATE ST</td>\n",
       "      <td>890</td>\n",
       "      <td>THEFT</td>\n",
       "      <td>FROM BUILDING</td>\n",
       "      <td>RESTAURANT</td>\n",
       "      <td>False</td>\n",
       "      <td>False</td>\n",
       "      <td>...</td>\n",
       "      <td>8.0</td>\n",
       "      <td>6</td>\n",
       "      <td>1176302.0</td>\n",
       "      <td>1903096.0</td>\n",
       "      <td>2019</td>\n",
       "      <td>1/10/19 15:16</td>\n",
       "      <td>41.889453</td>\n",
       "      <td>-87.627995</td>\n",
       "      <td>(41.889453169, -87.627994833)</td>\n",
       "      <td>1</td>\n",
       "    </tr>\n",
       "    <tr>\n",
       "      <th>1</th>\n",
       "      <td>11552674</td>\n",
       "      <td>JC100085</td>\n",
       "      <td>1/1/19 0:00</td>\n",
       "      <td>092XX S NORMAL AVE</td>\n",
       "      <td>910</td>\n",
       "      <td>MOTOR VEHICLE THEFT</td>\n",
       "      <td>AUTOMOBILE</td>\n",
       "      <td>STREET</td>\n",
       "      <td>False</td>\n",
       "      <td>False</td>\n",
       "      <td>...</td>\n",
       "      <td>73.0</td>\n",
       "      <td>7</td>\n",
       "      <td>1174586.0</td>\n",
       "      <td>1843723.0</td>\n",
       "      <td>2019</td>\n",
       "      <td>1/10/19 15:16</td>\n",
       "      <td>41.726566</td>\n",
       "      <td>-87.636066</td>\n",
       "      <td>(41.726566477, -87.636065622)</td>\n",
       "      <td>1</td>\n",
       "    </tr>\n",
       "    <tr>\n",
       "      <th>4</th>\n",
       "      <td>11553168</td>\n",
       "      <td>JC100745</td>\n",
       "      <td>1/1/19 0:00</td>\n",
       "      <td>008XX N MICHIGAN AVE</td>\n",
       "      <td>890</td>\n",
       "      <td>THEFT</td>\n",
       "      <td>FROM BUILDING</td>\n",
       "      <td>RESTAURANT</td>\n",
       "      <td>False</td>\n",
       "      <td>False</td>\n",
       "      <td>...</td>\n",
       "      <td>8.0</td>\n",
       "      <td>6</td>\n",
       "      <td>1177330.0</td>\n",
       "      <td>1906499.0</td>\n",
       "      <td>2019</td>\n",
       "      <td>1/10/19 15:16</td>\n",
       "      <td>41.898768</td>\n",
       "      <td>-87.624116</td>\n",
       "      <td>(41.898767916, -87.624116333)</td>\n",
       "      <td>1</td>\n",
       "    </tr>\n",
       "    <tr>\n",
       "      <th>6</th>\n",
       "      <td>11553495</td>\n",
       "      <td>JC101115</td>\n",
       "      <td>1/1/19 0:00</td>\n",
       "      <td>047XX N RACINE AVE</td>\n",
       "      <td>281</td>\n",
       "      <td>CRIM SEXUAL ASSAULT</td>\n",
       "      <td>NON-AGGRAVATED</td>\n",
       "      <td>OTHER</td>\n",
       "      <td>False</td>\n",
       "      <td>False</td>\n",
       "      <td>...</td>\n",
       "      <td>3.0</td>\n",
       "      <td>2</td>\n",
       "      <td>1167451.0</td>\n",
       "      <td>1931818.0</td>\n",
       "      <td>2019</td>\n",
       "      <td>1/10/19 15:16</td>\n",
       "      <td>41.968463</td>\n",
       "      <td>-87.659670</td>\n",
       "      <td>(41.968462892, -87.659670442)</td>\n",
       "      <td>0</td>\n",
       "    </tr>\n",
       "    <tr>\n",
       "      <th>9</th>\n",
       "      <td>11558163</td>\n",
       "      <td>JC106702</td>\n",
       "      <td>1/1/19 0:00</td>\n",
       "      <td>002XX W ONTARIO ST</td>\n",
       "      <td>890</td>\n",
       "      <td>THEFT</td>\n",
       "      <td>FROM BUILDING</td>\n",
       "      <td>BAR OR TAVERN</td>\n",
       "      <td>False</td>\n",
       "      <td>False</td>\n",
       "      <td>...</td>\n",
       "      <td>8.0</td>\n",
       "      <td>6</td>\n",
       "      <td>1174469.0</td>\n",
       "      <td>1904439.0</td>\n",
       "      <td>2019</td>\n",
       "      <td>1/10/19 15:16</td>\n",
       "      <td>41.893180</td>\n",
       "      <td>-87.634686</td>\n",
       "      <td>(41.893179585, -87.634686145)</td>\n",
       "      <td>1</td>\n",
       "    </tr>\n",
       "  </tbody>\n",
       "</table>\n",
       "<p>5 rows × 23 columns</p>\n",
       "</div>"
      ],
      "text/plain": [
       "         id case_number         date                 block iucr  \\\n",
       "0  11552667    JC100123  1/1/19 0:00      004XX N STATE ST  890   \n",
       "1  11552674    JC100085  1/1/19 0:00    092XX S NORMAL AVE  910   \n",
       "4  11553168    JC100745  1/1/19 0:00  008XX N MICHIGAN AVE  890   \n",
       "6  11553495    JC101115  1/1/19 0:00    047XX N RACINE AVE  281   \n",
       "9  11558163    JC106702  1/1/19 0:00    002XX W ONTARIO ST  890   \n",
       "\n",
       "          primary_type     description location_description arrest domestic  \\\n",
       "0                THEFT   FROM BUILDING           RESTAURANT  False    False   \n",
       "1  MOTOR VEHICLE THEFT      AUTOMOBILE               STREET  False    False   \n",
       "4                THEFT   FROM BUILDING           RESTAURANT  False    False   \n",
       "6  CRIM SEXUAL ASSAULT  NON-AGGRAVATED                OTHER  False    False   \n",
       "9                THEFT   FROM BUILDING        BAR OR TAVERN  False    False   \n",
       "\n",
       "   ... community_area fbi_code  x_coordinate y_coordinate  year  \\\n",
       "0  ...            8.0        6     1176302.0    1903096.0  2019   \n",
       "1  ...           73.0        7     1174586.0    1843723.0  2019   \n",
       "4  ...            8.0        6     1177330.0    1906499.0  2019   \n",
       "6  ...            3.0        2     1167451.0    1931818.0  2019   \n",
       "9  ...            8.0        6     1174469.0    1904439.0  2019   \n",
       "\n",
       "      updated_on   latitude  longitude                       location  \\\n",
       "0  1/10/19 15:16  41.889453 -87.627995  (41.889453169, -87.627994833)   \n",
       "1  1/10/19 15:16  41.726566 -87.636066  (41.726566477, -87.636065622)   \n",
       "4  1/10/19 15:16  41.898768 -87.624116  (41.898767916, -87.624116333)   \n",
       "6  1/10/19 15:16  41.968463 -87.659670  (41.968462892, -87.659670442)   \n",
       "9  1/10/19 15:16  41.893180 -87.634686  (41.893179585, -87.634686145)   \n",
       "\n",
       "   primary_type_grouped  \n",
       "0                     1  \n",
       "1                     1  \n",
       "4                     1  \n",
       "6                     0  \n",
       "9                     1  \n",
       "\n",
       "[5 rows x 23 columns]"
      ]
     },
     "execution_count": 932,
     "metadata": {},
     "output_type": "execute_result"
    }
   ],
   "source": [
    "crimes_data_type.head()"
   ]
  },
  {
   "cell_type": "code",
   "execution_count": 933,
   "metadata": {},
   "outputs": [],
   "source": [
    "# Dropping unnecessary columns which are not required for this prediction  \n",
    "crimes_data_prediction = crimes_data_type.drop(['id','case_number','location','date','block','iucr','description','location_description','primary_type','fbi_code','updated_on','x_coordinate','y_coordinate','primary_type_grouped'],axis=1)"
   ]
  },
  {
   "cell_type": "code",
   "execution_count": 934,
   "metadata": {},
   "outputs": [],
   "source": [
    "crimes_data_prediction_type=crimes_data_type[['primary_type_grouped']]"
   ]
  },
  {
   "cell_type": "code",
   "execution_count": 935,
   "metadata": {},
   "outputs": [],
   "source": [
    "crimes_data_prediction=crimes_data_prediction.to_numpy()\n",
    "crimes_data_prediction_type=crimes_data_prediction_type.to_numpy()"
   ]
  },
  {
   "cell_type": "code",
   "execution_count": 936,
   "metadata": {},
   "outputs": [],
   "source": [
    "# Spliting the data into training and testing where test size as 30%\n",
    "XX_train, XX_test, yy_train, yy_test = train_test_split(crimes_data_prediction,crimes_data_prediction_type, test_size=0.3, random_state=42)"
   ]
  },
  {
   "cell_type": "code",
   "execution_count": 937,
   "metadata": {},
   "outputs": [
    {
     "name": "stderr",
     "output_type": "stream",
     "text": [
      "C:\\Users\\syarla3\\AppData\\Local\\Temp\\ipykernel_27980\\12668443.py:3: DataConversionWarning: A column-vector y was passed when a 1d array was expected. Please change the shape of y to (n_samples,), for example using ravel().\n",
      "  modell.fit(XX_train,yy_train)\n"
     ]
    },
    {
     "data": {
      "text/html": [
       "<style>#sk-container-id-25 {color: black;background-color: white;}#sk-container-id-25 pre{padding: 0;}#sk-container-id-25 div.sk-toggleable {background-color: white;}#sk-container-id-25 label.sk-toggleable__label {cursor: pointer;display: block;width: 100%;margin-bottom: 0;padding: 0.3em;box-sizing: border-box;text-align: center;}#sk-container-id-25 label.sk-toggleable__label-arrow:before {content: \"▸\";float: left;margin-right: 0.25em;color: #696969;}#sk-container-id-25 label.sk-toggleable__label-arrow:hover:before {color: black;}#sk-container-id-25 div.sk-estimator:hover label.sk-toggleable__label-arrow:before {color: black;}#sk-container-id-25 div.sk-toggleable__content {max-height: 0;max-width: 0;overflow: hidden;text-align: left;background-color: #f0f8ff;}#sk-container-id-25 div.sk-toggleable__content pre {margin: 0.2em;color: black;border-radius: 0.25em;background-color: #f0f8ff;}#sk-container-id-25 input.sk-toggleable__control:checked~div.sk-toggleable__content {max-height: 200px;max-width: 100%;overflow: auto;}#sk-container-id-25 input.sk-toggleable__control:checked~label.sk-toggleable__label-arrow:before {content: \"▾\";}#sk-container-id-25 div.sk-estimator input.sk-toggleable__control:checked~label.sk-toggleable__label {background-color: #d4ebff;}#sk-container-id-25 div.sk-label input.sk-toggleable__control:checked~label.sk-toggleable__label {background-color: #d4ebff;}#sk-container-id-25 input.sk-hidden--visually {border: 0;clip: rect(1px 1px 1px 1px);clip: rect(1px, 1px, 1px, 1px);height: 1px;margin: -1px;overflow: hidden;padding: 0;position: absolute;width: 1px;}#sk-container-id-25 div.sk-estimator {font-family: monospace;background-color: #f0f8ff;border: 1px dotted black;border-radius: 0.25em;box-sizing: border-box;margin-bottom: 0.5em;}#sk-container-id-25 div.sk-estimator:hover {background-color: #d4ebff;}#sk-container-id-25 div.sk-parallel-item::after {content: \"\";width: 100%;border-bottom: 1px solid gray;flex-grow: 1;}#sk-container-id-25 div.sk-label:hover label.sk-toggleable__label {background-color: #d4ebff;}#sk-container-id-25 div.sk-serial::before {content: \"\";position: absolute;border-left: 1px solid gray;box-sizing: border-box;top: 0;bottom: 0;left: 50%;z-index: 0;}#sk-container-id-25 div.sk-serial {display: flex;flex-direction: column;align-items: center;background-color: white;padding-right: 0.2em;padding-left: 0.2em;position: relative;}#sk-container-id-25 div.sk-item {position: relative;z-index: 1;}#sk-container-id-25 div.sk-parallel {display: flex;align-items: stretch;justify-content: center;background-color: white;position: relative;}#sk-container-id-25 div.sk-item::before, #sk-container-id-25 div.sk-parallel-item::before {content: \"\";position: absolute;border-left: 1px solid gray;box-sizing: border-box;top: 0;bottom: 0;left: 50%;z-index: -1;}#sk-container-id-25 div.sk-parallel-item {display: flex;flex-direction: column;z-index: 1;position: relative;background-color: white;}#sk-container-id-25 div.sk-parallel-item:first-child::after {align-self: flex-end;width: 50%;}#sk-container-id-25 div.sk-parallel-item:last-child::after {align-self: flex-start;width: 50%;}#sk-container-id-25 div.sk-parallel-item:only-child::after {width: 0;}#sk-container-id-25 div.sk-dashed-wrapped {border: 1px dashed gray;margin: 0 0.4em 0.5em 0.4em;box-sizing: border-box;padding-bottom: 0.4em;background-color: white;}#sk-container-id-25 div.sk-label label {font-family: monospace;font-weight: bold;display: inline-block;line-height: 1.2em;}#sk-container-id-25 div.sk-label-container {text-align: center;}#sk-container-id-25 div.sk-container {/* jupyter's `normalize.less` sets `[hidden] { display: none; }` but bootstrap.min.css set `[hidden] { display: none !important; }` so we also need the `!important` here to be able to override the default hidden behavior on the sphinx rendered scikit-learn.org. See: https://github.com/scikit-learn/scikit-learn/issues/21755 */display: inline-block !important;position: relative;}#sk-container-id-25 div.sk-text-repr-fallback {display: none;}</style><div id=\"sk-container-id-25\" class=\"sk-top-container\"><div class=\"sk-text-repr-fallback\"><pre>RandomForestClassifier(criterion=&#x27;entropy&#x27;, n_estimators=10, random_state=42)</pre><b>In a Jupyter environment, please rerun this cell to show the HTML representation or trust the notebook. <br />On GitHub, the HTML representation is unable to render, please try loading this page with nbviewer.org.</b></div><div class=\"sk-container\" hidden><div class=\"sk-item\"><div class=\"sk-estimator sk-toggleable\"><input class=\"sk-toggleable__control sk-hidden--visually\" id=\"sk-estimator-id-25\" type=\"checkbox\" checked><label for=\"sk-estimator-id-25\" class=\"sk-toggleable__label sk-toggleable__label-arrow\">RandomForestClassifier</label><div class=\"sk-toggleable__content\"><pre>RandomForestClassifier(criterion=&#x27;entropy&#x27;, n_estimators=10, random_state=42)</pre></div></div></div></div></div>"
      ],
      "text/plain": [
       "RandomForestClassifier(criterion='entropy', n_estimators=10, random_state=42)"
      ]
     },
     "execution_count": 937,
     "metadata": {},
     "output_type": "execute_result"
    }
   ],
   "source": [
    "from sklearn.ensemble import RandomForestClassifier\n",
    "modell = RandomForestClassifier(n_estimators = 10,criterion='entropy',random_state=42)\n",
    "modell.fit(XX_train,yy_train)"
   ]
  },
  {
   "cell_type": "code",
   "execution_count": 938,
   "metadata": {},
   "outputs": [],
   "source": [
    "yy_pred = modell.predict(XX_test)"
   ]
  },
  {
   "cell_type": "code",
   "execution_count": 939,
   "metadata": {},
   "outputs": [
    {
     "name": "stdout",
     "output_type": "stream",
     "text": [
      "Accuracy =  0.9048287666653294\n",
      "Error =  0.09517123333467059\n",
      "Classification Report\n",
      "               precision    recall  f1-score   support\n",
      "\n",
      "           0       0.34      0.20      0.26      1830\n",
      "           1       0.93      0.96      0.95     65663\n",
      "           2       0.69      0.54      0.60      7288\n",
      "\n",
      "    accuracy                           0.90     74781\n",
      "   macro avg       0.66      0.57      0.60     74781\n",
      "weighted avg       0.89      0.90      0.90     74781\n",
      "\n"
     ]
    }
   ],
   "source": [
    "#Classification Metrics\n",
    "from sklearn.metrics import confusion_matrix\n",
    "print('Accuracy = ',metrics.accuracy_score(yy_test, yy_pred))\n",
    "print('Error = ',1 - metrics.accuracy_score(yy_test, yy_pred))\n",
    "print('Classification Report\\n',metrics.classification_report(yy_test, yy_pred))"
   ]
  },
  {
   "cell_type": "code",
   "execution_count": 940,
   "metadata": {},
   "outputs": [
    {
     "data": {
      "image/png": "[encoded data removed]",
      "text/plain": [
       "<Figure size 800x550 with 2 Axes>"
      ]
     },
     "metadata": {},
     "output_type": "display_data"
    }
   ],
   "source": [
    "#Visualization of Confusion Matrix\n",
    "import seaborn as sns\n",
    "%matplotlib inline\n",
    "sns.set_style(\"darkgrid\")\n",
    "sns.heatmap(conff_matrix, annot = True, fmt = \".3f\", square = True, cmap = plt.cm.Blues)\n",
    "plt.ylabel('Actual')\n",
    "plt.xlabel('Predicted')\n",
    "plt.title('Confusion matrix')\n",
    "plt.tight_layout()"
   ]
  },
  {
   "cell_type": "code",
   "execution_count": 1001,
   "metadata": {},
   "outputs": [
    {
     "data": {
      "image/png": "[encoded data removed]",
      "text/plain": [
       "<Figure size 800x550 with 2 Axes>"
      ]
     },
     "metadata": {},
     "output_type": "display_data"
    },
    {
     "data": {
      "text/plain": [
       "<AxesSubplot: title={'center': 'RandomForestClassifier Classification Report'}>"
      ]
     },
     "execution_count": 1001,
     "metadata": {},
     "output_type": "execute_result"
    }
   ],
   "source": [
    "from yellowbrick.classifier import ClassificationReport\n",
    "classes=['THEFT','SEXUAL_OFFENSE','WEAPONS_OFFENSE']\n",
    "\n",
    "visualizer = ClassificationReport(modell, classes=classes, support=True)\n",
    "\n",
    "visualizer.fit(XX_train, yy_train)        # Fit the visualizer and the model\n",
    "visualizer.score(XX_test, yy_test)        # Evaluate the model on the test data\n",
    "visualizer.show() "
   ]
  },
  {
   "cell_type": "markdown",
   "metadata": {},
   "source": [
    "## Observation: By classification report,\n",
    "- Precision: In the case where theft was predicted as positive 34% were correctly predicted. \n",
    "- Recall: In the case of an sexual_offense 96% were classified correctly when an actual arrest happened.\n",
    "- f1: The weighted harmonic mean of precision and recall is a good value if its closer to 1 and this is almost close to 1 in this case.So it a good model.\n",
    "- Support: This shows the number of actual occurences of the classes in teh dataset we see that we have 1830 instances of theft whereas 65663 instances of sexual_offense and 7288 instances of weapon offense.\n",
    "\n",
    "By using Random Forest machine learnng model the accuracy is increased when compared to Decision tree classifier."
   ]
  },
  {
   "cell_type": "markdown",
   "metadata": {},
   "source": [
    "## Additional Work"
   ]
  },
  {
   "cell_type": "markdown",
   "metadata": {},
   "source": [
    "### To predict whether the crime would lead to arrest or not"
   ]
  },
  {
   "cell_type": "markdown",
   "metadata": {},
   "source": [
    "### Gaussain Naive Bayes"
   ]
  },
  {
   "cell_type": "markdown",
   "metadata": {},
   "source": [
    "##### Importing the necessary libraries"
   ]
  },
  {
   "cell_type": "code",
   "execution_count": 975,
   "metadata": {},
   "outputs": [],
   "source": [
    "import pandas as pd"
   ]
  },
  {
   "cell_type": "code",
   "execution_count": 976,
   "metadata": {},
   "outputs": [
    {
     "data": {
      "text/html": [
       "<div>\n",
       "<style scoped>\n",
       "    .dataframe tbody tr th:only-of-type {\n",
       "        vertical-align: middle;\n",
       "    }\n",
       "\n",
       "    .dataframe tbody tr th {\n",
       "        vertical-align: top;\n",
       "    }\n",
       "\n",
       "    .dataframe thead th {\n",
       "        text-align: right;\n",
       "    }\n",
       "</style>\n",
       "<table border=\"1\" class=\"dataframe\">\n",
       "  <thead>\n",
       "    <tr style=\"text-align: right;\">\n",
       "      <th></th>\n",
       "      <th>ID</th>\n",
       "      <th>Case Number</th>\n",
       "      <th>Date</th>\n",
       "      <th>Block</th>\n",
       "      <th>IUCR</th>\n",
       "      <th>Primary Type</th>\n",
       "      <th>Description</th>\n",
       "      <th>Location Description</th>\n",
       "      <th>Arrest</th>\n",
       "      <th>Domestic</th>\n",
       "      <th>...</th>\n",
       "      <th>Ward</th>\n",
       "      <th>Community Area</th>\n",
       "      <th>FBI Code</th>\n",
       "      <th>X Coordinate</th>\n",
       "      <th>Y Coordinate</th>\n",
       "      <th>Year</th>\n",
       "      <th>Updated On</th>\n",
       "      <th>Latitude</th>\n",
       "      <th>Longitude</th>\n",
       "      <th>Location</th>\n",
       "    </tr>\n",
       "  </thead>\n",
       "  <tbody>\n",
       "    <tr>\n",
       "      <th>0</th>\n",
       "      <td>11552667</td>\n",
       "      <td>JC100123</td>\n",
       "      <td>1/1/19 0:00</td>\n",
       "      <td>004XX N STATE ST</td>\n",
       "      <td>890</td>\n",
       "      <td>THEFT</td>\n",
       "      <td>FROM BUILDING</td>\n",
       "      <td>RESTAURANT</td>\n",
       "      <td>False</td>\n",
       "      <td>False</td>\n",
       "      <td>...</td>\n",
       "      <td>42.0</td>\n",
       "      <td>8.0</td>\n",
       "      <td>6</td>\n",
       "      <td>1176302.0</td>\n",
       "      <td>1903096.0</td>\n",
       "      <td>2019</td>\n",
       "      <td>1/10/19 15:16</td>\n",
       "      <td>41.889453</td>\n",
       "      <td>-87.627995</td>\n",
       "      <td>(41.889453169, -87.627994833)</td>\n",
       "    </tr>\n",
       "    <tr>\n",
       "      <th>1</th>\n",
       "      <td>11552674</td>\n",
       "      <td>JC100085</td>\n",
       "      <td>1/1/19 0:00</td>\n",
       "      <td>092XX S NORMAL AVE</td>\n",
       "      <td>910</td>\n",
       "      <td>MOTOR VEHICLE THEFT</td>\n",
       "      <td>AUTOMOBILE</td>\n",
       "      <td>STREET</td>\n",
       "      <td>False</td>\n",
       "      <td>False</td>\n",
       "      <td>...</td>\n",
       "      <td>21.0</td>\n",
       "      <td>73.0</td>\n",
       "      <td>7</td>\n",
       "      <td>1174586.0</td>\n",
       "      <td>1843723.0</td>\n",
       "      <td>2019</td>\n",
       "      <td>1/10/19 15:16</td>\n",
       "      <td>41.726566</td>\n",
       "      <td>-87.636066</td>\n",
       "      <td>(41.726566477, -87.636065622)</td>\n",
       "    </tr>\n",
       "    <tr>\n",
       "      <th>2</th>\n",
       "      <td>11552709</td>\n",
       "      <td>JC100020</td>\n",
       "      <td>1/1/19 0:00</td>\n",
       "      <td>044XX S WASHTENAW AVE</td>\n",
       "      <td>486</td>\n",
       "      <td>BATTERY</td>\n",
       "      <td>DOMESTIC BATTERY SIMPLE</td>\n",
       "      <td>APARTMENT</td>\n",
       "      <td>False</td>\n",
       "      <td>True</td>\n",
       "      <td>...</td>\n",
       "      <td>15.0</td>\n",
       "      <td>58.0</td>\n",
       "      <td>08B</td>\n",
       "      <td>1159112.0</td>\n",
       "      <td>1875020.0</td>\n",
       "      <td>2019</td>\n",
       "      <td>1/10/19 15:16</td>\n",
       "      <td>41.812780</td>\n",
       "      <td>-87.691894</td>\n",
       "      <td>(41.812780011, -87.691893746)</td>\n",
       "    </tr>\n",
       "    <tr>\n",
       "      <th>3</th>\n",
       "      <td>11552758</td>\n",
       "      <td>JC100058</td>\n",
       "      <td>1/1/19 0:00</td>\n",
       "      <td>063XX S MARSHFIELD AVE</td>\n",
       "      <td>1310</td>\n",
       "      <td>CRIMINAL DAMAGE</td>\n",
       "      <td>TO PROPERTY</td>\n",
       "      <td>APARTMENT</td>\n",
       "      <td>False</td>\n",
       "      <td>False</td>\n",
       "      <td>...</td>\n",
       "      <td>16.0</td>\n",
       "      <td>67.0</td>\n",
       "      <td>14</td>\n",
       "      <td>1166414.0</td>\n",
       "      <td>1862607.0</td>\n",
       "      <td>2019</td>\n",
       "      <td>1/10/19 15:16</td>\n",
       "      <td>41.778565</td>\n",
       "      <td>-87.665464</td>\n",
       "      <td>(41.77856457, -87.665463557)</td>\n",
       "    </tr>\n",
       "    <tr>\n",
       "      <th>4</th>\n",
       "      <td>11553168</td>\n",
       "      <td>JC100745</td>\n",
       "      <td>1/1/19 0:00</td>\n",
       "      <td>008XX N MICHIGAN AVE</td>\n",
       "      <td>890</td>\n",
       "      <td>THEFT</td>\n",
       "      <td>FROM BUILDING</td>\n",
       "      <td>RESTAURANT</td>\n",
       "      <td>False</td>\n",
       "      <td>False</td>\n",
       "      <td>...</td>\n",
       "      <td>2.0</td>\n",
       "      <td>8.0</td>\n",
       "      <td>6</td>\n",
       "      <td>1177330.0</td>\n",
       "      <td>1906499.0</td>\n",
       "      <td>2019</td>\n",
       "      <td>1/10/19 15:16</td>\n",
       "      <td>41.898768</td>\n",
       "      <td>-87.624116</td>\n",
       "      <td>(41.898767916, -87.624116333)</td>\n",
       "    </tr>\n",
       "  </tbody>\n",
       "</table>\n",
       "<p>5 rows × 22 columns</p>\n",
       "</div>"
      ],
      "text/plain": [
       "         ID Case Number         Date                   Block  IUCR  \\\n",
       "0  11552667    JC100123  1/1/19 0:00        004XX N STATE ST   890   \n",
       "1  11552674    JC100085  1/1/19 0:00      092XX S NORMAL AVE   910   \n",
       "2  11552709    JC100020  1/1/19 0:00   044XX S WASHTENAW AVE   486   \n",
       "3  11552758    JC100058  1/1/19 0:00  063XX S MARSHFIELD AVE  1310   \n",
       "4  11553168    JC100745  1/1/19 0:00    008XX N MICHIGAN AVE   890   \n",
       "\n",
       "          Primary Type              Description Location Description  Arrest  \\\n",
       "0                THEFT            FROM BUILDING           RESTAURANT   False   \n",
       "1  MOTOR VEHICLE THEFT               AUTOMOBILE               STREET   False   \n",
       "2              BATTERY  DOMESTIC BATTERY SIMPLE            APARTMENT   False   \n",
       "3      CRIMINAL DAMAGE              TO PROPERTY            APARTMENT   False   \n",
       "4                THEFT            FROM BUILDING           RESTAURANT   False   \n",
       "\n",
       "   Domestic  ...  Ward  Community Area  FBI Code  X Coordinate Y Coordinate  \\\n",
       "0     False  ...  42.0             8.0         6     1176302.0    1903096.0   \n",
       "1     False  ...  21.0            73.0         7     1174586.0    1843723.0   \n",
       "2      True  ...  15.0            58.0       08B     1159112.0    1875020.0   \n",
       "3     False  ...  16.0            67.0        14     1166414.0    1862607.0   \n",
       "4     False  ...   2.0             8.0         6     1177330.0    1906499.0   \n",
       "\n",
       "   Year     Updated On   Latitude  Longitude                       Location  \n",
       "0  2019  1/10/19 15:16  41.889453 -87.627995  (41.889453169, -87.627994833)  \n",
       "1  2019  1/10/19 15:16  41.726566 -87.636066  (41.726566477, -87.636065622)  \n",
       "2  2019  1/10/19 15:16  41.812780 -87.691894  (41.812780011, -87.691893746)  \n",
       "3  2019  1/10/19 15:16  41.778565 -87.665464   (41.77856457, -87.665463557)  \n",
       "4  2019  1/10/19 15:16  41.898768 -87.624116  (41.898767916, -87.624116333)  \n",
       "\n",
       "[5 rows x 22 columns]"
      ]
     },
     "execution_count": 976,
     "metadata": {},
     "output_type": "execute_result"
    }
   ],
   "source": [
    "crimes_df = pd.read_csv('Crimes-2019_to_2021.csv')\n",
    "crimes_df.head(5)"
   ]
  },
  {
   "cell_type": "code",
   "execution_count": 977,
   "metadata": {},
   "outputs": [
    {
     "data": {
      "text/plain": [
       "(680425, 22)"
      ]
     },
     "execution_count": 977,
     "metadata": {},
     "output_type": "execute_result"
    }
   ],
   "source": [
    "# shape of dataset before cleaning\n",
    "crimes_df.shape"
   ]
  },
  {
   "cell_type": "markdown",
   "metadata": {},
   "source": [
    "##### Converting the column names to a standard form and handling inconsistencies"
   ]
  },
  {
   "cell_type": "code",
   "execution_count": 978,
   "metadata": {},
   "outputs": [],
   "source": [
    "crimes_df.columns =crimes_df.columns.str.strip()\n",
    "crimes_df.columns = crimes_df.columns.str.replace(' ', '_')\n",
    "crimes_df.columns = crimes_df.columns.str.lower()"
   ]
  },
  {
   "cell_type": "markdown",
   "metadata": {},
   "source": [
    "##### Checking for outliers "
   ]
  },
  {
   "cell_type": "code",
   "execution_count": 979,
   "metadata": {},
   "outputs": [
    {
     "data": {
      "text/plain": [
       "<AxesSubplot: >"
      ]
     },
     "execution_count": 979,
     "metadata": {},
     "output_type": "execute_result"
    },
    {
     "data": {
      "image/png": "[encoded data removed]",
      "text/plain": [
       "<Figure size 1000x700 with 1 Axes>"
      ]
     },
     "metadata": {},
     "output_type": "display_data"
    }
   ],
   "source": [
    "import matplotlib.pyplot as plt\n",
    "plt.figure(figsize = (10, 7))\n",
    "crimes_df.boxplot(['ward','community_area','beat'])"
   ]
  },
  {
   "cell_type": "markdown",
   "metadata": {},
   "source": [
    "##### Eliminating duplicate rows"
   ]
  },
  {
   "cell_type": "code",
   "execution_count": 980,
   "metadata": {},
   "outputs": [],
   "source": [
    "crimes_df=crimes_df.drop_duplicates()"
   ]
  },
  {
   "cell_type": "markdown",
   "metadata": {},
   "source": [
    "##### Handling missing values by dropping, replacing them "
   ]
  },
  {
   "cell_type": "code",
   "execution_count": 981,
   "metadata": {},
   "outputs": [
    {
     "data": {
      "text/plain": [
       "<AxesSubplot: >"
      ]
     },
     "execution_count": 981,
     "metadata": {},
     "output_type": "execute_result"
    },
    {
     "data": {
      "image/png": "[encoded data removed]",
      "text/plain": [
       "<Figure size 2500x1000 with 1 Axes>"
      ]
     },
     "metadata": {},
     "output_type": "display_data"
    }
   ],
   "source": [
    "import missingno as msno \n",
    "msno.dendrogram(crimes_df)"
   ]
  },
  {
   "cell_type": "code",
   "execution_count": 982,
   "metadata": {},
   "outputs": [],
   "source": [
    "crimes_df.dropna(subset = ['latitude','longitude','ward'], inplace = True)\n",
    "crimes_df.reset_index(drop = True, inplace = True)\n",
    "crimes_df['location_description'] = crimes_df['location_description'].fillna('Unavailable')"
   ]
  },
  {
   "cell_type": "code",
   "execution_count": 983,
   "metadata": {},
   "outputs": [],
   "source": [
    "crimes_df.drop(['id','case_number','location'],axis=1,inplace=True)\n"
   ]
  },
  {
   "cell_type": "code",
   "execution_count": 984,
   "metadata": {},
   "outputs": [
    {
     "data": {
      "text/plain": [
       "(669975, 19)"
      ]
     },
     "execution_count": 984,
     "metadata": {},
     "output_type": "execute_result"
    }
   ],
   "source": [
    "crimes_df.shape\n"
   ]
  },
  {
   "cell_type": "markdown",
   "metadata": {},
   "source": [
    "The x coordinate and y coordinate values are closely correlated with the null values of latitude and longitude, as can be seen from the dendogram above. If one of the values in this co-relation has a value of 1, it means that the other value likewise has a value of 1.\n",
    "\n",
    "Therefore, it is safe to discard observations in which one of the values is zero. This shouldn't have an impact on our data and should also prevent the loss of significant observations."
   ]
  },
  {
   "cell_type": "code",
   "execution_count": 985,
   "metadata": {},
   "outputs": [
    {
     "data": {
      "text/plain": [
       "date                    0\n",
       "block                   0\n",
       "iucr                    0\n",
       "primary_type            0\n",
       "description             0\n",
       "location_description    0\n",
       "arrest                  0\n",
       "domestic                0\n",
       "beat                    0\n",
       "district                0\n",
       "ward                    0\n",
       "community_area          0\n",
       "fbi_code                0\n",
       "x_coordinate            0\n",
       "y_coordinate            0\n",
       "year                    0\n",
       "updated_on              0\n",
       "latitude                0\n",
       "longitude               0\n",
       "dtype: int64"
      ]
     },
     "execution_count": 985,
     "metadata": {},
     "output_type": "execute_result"
    }
   ],
   "source": [
    "crimes_df.isna().sum()"
   ]
  },
  {
   "cell_type": "code",
   "execution_count": 986,
   "metadata": {},
   "outputs": [
    {
     "data": {
      "text/plain": [
       "12729525"
      ]
     },
     "execution_count": 986,
     "metadata": {},
     "output_type": "execute_result"
    }
   ],
   "source": [
    "# size of data after cleaning\n",
    "crimes_df.size"
   ]
  },
  {
   "cell_type": "code",
   "execution_count": 987,
   "metadata": {},
   "outputs": [],
   "source": [
    "# Converting the numercial attributes to categorical attributes\n",
    "crimes_df.year = pd.Categorical(crimes_df.year)\n",
    "crimes_df.domestic = pd.Categorical(crimes_df.domestic)\n",
    "crimes_df.arrest = pd.Categorical(crimes_df.arrest)\n",
    "crimes_df.beat = pd.Categorical(crimes_df.beat)\n",
    "crimes_df.district = pd.Categorical(crimes_df.district)\n",
    "crimes_df.ward = pd.Categorical(crimes_df.ward)\n",
    "crimes_df.community_area = pd.Categorical(crimes_df.community_area)"
   ]
  },
  {
   "cell_type": "code",
   "execution_count": 988,
   "metadata": {},
   "outputs": [],
   "source": [
    "# Dropping the attributes date,block,iucr,primary_type,description,location_description,fbi_code,updated_on,x_coordinate,y_coordinate.\n",
    "crimes_dff = crimes_df.drop(['date','block','iucr','primary_type','description','location_description','fbi_code','updated_on','x_coordinate','y_coordinate'],axis = 1)"
   ]
  },
  {
   "cell_type": "code",
   "execution_count": 989,
   "metadata": {},
   "outputs": [],
   "source": [
    "crimes_dff = pd.get_dummies(crimes_dff,drop_first=True)"
   ]
  },
  {
   "cell_type": "code",
   "execution_count": 992,
   "metadata": {},
   "outputs": [],
   "source": [
    "# Train test spliting the data with test size 30%\n",
    "from sklearn.model_selection import train_test_split\n",
    "x_train, x_test, y_train, y_test = train_test_split(crimes_dff.drop(['arrest_True'],axis=1),crimes_dff['arrest_True'], test_size=0.3,random_state=0)"
   ]
  },
  {
   "cell_type": "code",
   "execution_count": 993,
   "metadata": {},
   "outputs": [],
   "source": [
    "# Using Gaussain to predict if arrest happens or not\n",
    "from sklearn.naive_bayes import GaussianNB\n",
    "classifier = GaussianNB()\n",
    "classifier.fit(x_train, y_train)\n",
    "y_pred = classifier.predict(x_test)"
   ]
  },
  {
   "cell_type": "code",
   "execution_count": 994,
   "metadata": {},
   "outputs": [
    {
     "name": "stdout",
     "output_type": "stream",
     "text": [
      "[[73695 92946]\n",
      " [ 9483 24869]]\n"
     ]
    }
   ],
   "source": [
    "# Displaying confusion matrix\n",
    "from sklearn import metrics\n",
    "from sklearn.metrics import classification_report\n",
    "conf_matrix = metrics.confusion_matrix(y_test, y_pred)\n",
    "print(conf_matrix)"
   ]
  },
  {
   "cell_type": "code",
   "execution_count": 995,
   "metadata": {},
   "outputs": [
    {
     "data": {
      "image/png": "[encoded data removed]",
      "text/plain": [
       "<Figure size 800x550 with 2 Axes>"
      ]
     },
     "metadata": {},
     "output_type": "display_data"
    }
   ],
   "source": [
    "import seaborn as sns\n",
    "%matplotlib inline\n",
    "sns.set_style(\"darkgrid\")\n",
    "sns.heatmap(conf_matrix, annot = True, fmt = \".3f\", square = True, cmap = plt.cm.Blues)\n",
    "plt.ylabel('Actual')\n",
    "plt.xlabel('Predicted')\n",
    "plt.title('Confusion matrix')\n",
    "plt.tight_layout()"
   ]
  },
  {
   "cell_type": "markdown",
   "metadata": {},
   "source": [
    "Classification report and accuracy."
   ]
  },
  {
   "cell_type": "code",
   "execution_count": 996,
   "metadata": {},
   "outputs": [
    {
     "name": "stdout",
     "output_type": "stream",
     "text": [
      "Accuracy =  0.49038523729682126\n",
      "Error =  0.5096147627031787\n",
      "Precision =  0.2110851759113865\n",
      "Recall =  0.7239462040055892\n",
      "F-1 Score =  0.3268645632758745\n",
      "Classification Report\n",
      "               precision    recall  f1-score   support\n",
      "\n",
      "           0       0.89      0.44      0.59    166641\n",
      "           1       0.21      0.72      0.33     34352\n",
      "\n",
      "    accuracy                           0.49    200993\n",
      "   macro avg       0.55      0.58      0.46    200993\n",
      "weighted avg       0.77      0.49      0.55    200993\n",
      "\n"
     ]
    }
   ],
   "source": [
    "print('Accuracy = ',metrics.accuracy_score(y_test, y_pred))\n",
    "print('Error = ',1 - metrics.accuracy_score(y_test, y_pred))\n",
    "print('Precision = ',metrics.precision_score(y_test, y_pred,))\n",
    "print('Recall = ',metrics.recall_score(y_test, y_pred))\n",
    "print('F-1 Score = ',metrics.f1_score(y_test, y_pred))\n",
    "print('Classification Report\\n',metrics.classification_report(y_test, y_pred))"
   ]
  },
  {
   "cell_type": "code",
   "execution_count": 997,
   "metadata": {},
   "outputs": [
    {
     "name": "stderr",
     "output_type": "stream",
     "text": [
      "C:\\Users\\syarla3\\AppData\\Local\\Packages\\PythonSoftwareFoundation.Python.3.8_qbz5n2kfra8p0\\LocalCache\\local-packages\\Python38\\site-packages\\sklearn\\base.py:450: UserWarning: X does not have valid feature names, but GaussianNB was fitted with feature names\n",
      "  warnings.warn(\n"
     ]
    },
    {
     "data": {
      "image/png": "[encoded data removed]",
      "text/plain": [
       "<Figure size 800x550 with 2 Axes>"
      ]
     },
     "metadata": {},
     "output_type": "display_data"
    },
    {
     "data": {
      "text/plain": [
       "<AxesSubplot: title={'center': 'GaussianNB Classification Report'}>"
      ]
     },
     "execution_count": 997,
     "metadata": {},
     "output_type": "execute_result"
    }
   ],
   "source": [
    "from yellowbrick.classifier import ClassificationReport\n",
    "classes=['no arrest','arrest']\n",
    "visualizer = ClassificationReport(classifier, classes=classes, support=True)\n",
    "\n",
    "visualizer.fit(x_train, y_train)        # Fit the visualizer and the model\n",
    "visualizer.score(x_test, y_test)        # Evaluate the model on the test data\n",
    "visualizer.show() "
   ]
  },
  {
   "cell_type": "markdown",
   "metadata": {},
   "source": [
    "##### Observation: By classification report,\n",
    "- Precision: In the case where no arrest was predicted as positive 88% were correctly predicted. \n",
    "- Recall: In the case of an arrest 73% were classified correctly when an actual arrest happened.\n",
    "- f1: The weighted harmonic mean of precision and recall is a good value if its closer to 1 but Gaussian classifier is low in term of f1 score which means we have to choose a better model.\n",
    "- Support: This shows the number of actual occurences of the classes in teh dataset we see that we have 166684 instances of no arrest whereas only 34308 instances of arrest.This is the main reason we have high precission for no arrest whereas a low value for arrest."
   ]
  },
  {
   "cell_type": "code",
   "execution_count": 998,
   "metadata": {},
   "outputs": [
    {
     "data": {
      "text/plain": [
       "Text(0, 0.5, 'True Positives:')"
      ]
     },
     "execution_count": 998,
     "metadata": {},
     "output_type": "execute_result"
    },
    {
     "data": {
      "image/png": "[encoded data removed]",
      "text/plain": [
       "<Figure size 800x550 with 1 Axes>"
      ]
     },
     "metadata": {},
     "output_type": "display_data"
    }
   ],
   "source": [
    "#Plotting the ROC Curve to analyse the model\n",
    "from sklearn.metrics import roc_auc_score, roc_curve\n",
    "false_positives,true_positives,thresholds = roc_curve(y_test,visualizer.predict_proba(x_test)[:,1])\n",
    "plt.scatter(false_positives ,true_positives, s = 6)\n",
    "plt.title('ROC Curve')\n",
    "plt.xlabel('False Positives')\n",
    "plt.ylabel('True Positives:')"
   ]
  },
  {
   "cell_type": "markdown",
   "metadata": {},
   "source": [
    "#### Observation: The model have accuracy of 49% which means it can be further improved.The same can be seen even through ROC curve.The curve is not near to top left corver"
   ]
  },
  {
   "cell_type": "markdown",
   "metadata": {},
   "source": []
  }
 ],
 "metadata": {
  "kernelspec": {
   "display_name": "Python 3.8.10 64-bit (microsoft store)",
   "language": "python",
   "name": "python3"
  },
  "language_info": {
   "codemirror_mode": {
    "name": "ipython",
    "version": 3
   },
   "file_extension": ".py",
   "mimetype": "text/x-python",
   "name": "python",
   "nbconvert_exporter": "python",
   "pygments_lexer": "ipython3",
   "version": "3.8.10"
  },
  "orig_nbformat": 4,
  "vscode": {
   "interpreter": {
    "hash": "3fc0b2b0e8fecb3858fbe87e2276006e5e427a613734994cd4174b7cb256e909"
   }
  }
 },
 "nbformat": 4,
 "nbformat_minor": 2
}
